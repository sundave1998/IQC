{
 "cells": [
  {
   "cell_type": "code",
   "execution_count": 1,
   "metadata": {},
   "outputs": [],
   "source": [
    "import numpy as np\n",
    "import cvxpy as cp\n",
    "import tqdm as tqdm\n",
    "import matplotlib.pyplot as plt\n"
   ]
  },
  {
   "cell_type": "code",
   "execution_count": 2,
   "metadata": {},
   "outputs": [
    {
     "name": "stdout",
     "output_type": "stream",
     "text": [
      "[[ 0.          0.          0.          0.        ]\n",
      " [ 0.         -3.33333333  0.5         0.        ]\n",
      " [ 0.          0.5        -0.06666667  0.        ]\n",
      " [ 0.          0.          0.          0.        ]]\n",
      "[[-0.66666667  0.5         0.          0.        ]\n",
      " [ 0.5        -0.33333333  0.          0.        ]\n",
      " [ 0.          0.          0.          0.        ]\n",
      " [ 0.          0.          0.          0.        ]]\n",
      "The optimal value is 0.7777765370857804\n",
      "A solution is\n",
      "0.06665961967432903 1.3331379379140185 0.06666430161832688\n",
      "False\n"
     ]
    }
   ],
   "source": [
    "u_f = 5\n",
    "L_f = 10\n",
    "\n",
    "u_phi = 0.5\n",
    "L_phi = 1\n",
    "\n",
    "M_f = np.zeros((4,4))\n",
    "M_f[1,1]= -(u_f*L_f)/(u_f+L_f)\n",
    "M_f[1,2]= 1/2\n",
    "M_f[2,1]= 1/2\n",
    "M_f[2,2]= -(1)/(u_f+L_f)\n",
    "\n",
    "\n",
    "M_phi = np.zeros((4,4))\n",
    "M_phi[1,1]= -(u_phi*L_phi)/(u_phi+L_phi)\n",
    "M_phi[1,0]= 1/2\n",
    "M_phi[0,1]= 1/2\n",
    "M_phi[0,0]= -(1)/(u_phi+L_phi)\n",
    "\n",
    "# eta = 0.2\n",
    "\n",
    "# print(M_0)\n",
    "print(M_f)\n",
    "print(M_phi)\n",
    "\n",
    "sigma_f = cp.Variable()\n",
    "sigma_phi = cp.Variable()\n",
    "rho = cp.Variable()\n",
    "eta = cp.Variable()\n",
    "epsilon = cp.Variable()\n",
    "\n",
    "M_0_part_1 = np.zeros((4,4))\n",
    "M_0_part_2 = np.zeros((4,4))\n",
    "\n",
    "M_0_part_1[0,0]= (1)/(2*u_phi)\n",
    "M_0_part_1[1,1]= (-u_phi)/(2)\n",
    "\n",
    "# M_0_part_1[1,2]= -1/2*eta\n",
    "# M_0_part_1[2,1]= -1/2*eta\n",
    "# M_0_part_1[2,2]= (eta*eta)/(2*u_phi)\n",
    "\n",
    "M_0_part_2[0,0] = -1/(2*u_phi)\n",
    "\n",
    "Compliment_part_1 = np.zeros((4,4))\n",
    "Compliment_part_2 = np.zeros((4,4))\n",
    "\n",
    "Compliment_part_1[1,3] = -np.sqrt(u_phi/2)\n",
    "Compliment_part_1[3,1] = -np.sqrt(u_phi/2)\n",
    "Compliment_part_1[3,3] = 1\n",
    "\n",
    "Compliment_part_2[2,3] = 1/np.sqrt(u_phi*2)\n",
    "Compliment_part_2[3,2] = 1/np.sqrt(u_phi*2)\n",
    "\n",
    "constraints = [sigma_f >= 0]\n",
    "constraints += [sigma_phi >= 0]\n",
    "constraints += [(-M_0_part_1 - rho*M_0_part_2 - sigma_f*M_f - sigma_phi*M_phi + Compliment_part_1 + eta*Compliment_part_2) >> 0]\n",
    "constraints += [rho >= 0]\n",
    "constraints += [eta >= 0]\n",
    "constraints += [rho <= 1]\n",
    "\n",
    "\n",
    "prob=cp.Problem(cp.Minimize(rho), constraints)\n",
    "# prob=cp.Problem(cp.Maximize(rho), constraints)\n",
    "prob.solve()\n",
    "\n",
    "\n",
    "print(\"The optimal value is\", prob.value)\n",
    "print(\"A solution is\")\n",
    "print(sigma_f.value, sigma_phi.value, eta.value)\n",
    "\n",
    "print(prob.value == 0)"
   ]
  },
  {
   "cell_type": "code",
   "execution_count": 3,
   "metadata": {},
   "outputs": [
    {
     "name": "stderr",
     "output_type": "stream",
     "text": [
      "100it [00:01, 56.17it/s]\n"
     ]
    }
   ],
   "source": [
    "u_f = 5\n",
    "L_f = 10\n",
    "L_phi = 3\n",
    "\n",
    "resolution = 100\n",
    "u_phi_selection = np.linspace(0.2,L_phi,resolution,endpoint=False)\n",
    "\n",
    "argmin_eta = np.zeros(resolution)\n",
    "best_sigma_f = np.zeros(resolution)\n",
    "best_sigma_phi = np.zeros(resolution)\n",
    "best_rho= np.zeros(resolution)\n",
    "\n",
    "for k, u_phi in tqdm.tqdm(enumerate(u_phi_selection)):\n",
    "# u_phi = 0.5\n",
    "\n",
    "    M_f = np.zeros((4,4))\n",
    "    M_f[1,1]= -(u_f*L_f)/(u_f+L_f)\n",
    "    M_f[1,2]= 1/2\n",
    "    M_f[2,1]= 1/2\n",
    "    M_f[2,2]= -(1)/(u_f+L_f)\n",
    "\n",
    "\n",
    "    M_phi = np.zeros((4,4))\n",
    "    M_phi[1,1]= -(u_phi*L_phi)/(u_phi+L_phi)\n",
    "    M_phi[1,0]= 1/2\n",
    "    M_phi[0,1]= 1/2\n",
    "    M_phi[0,0]= -(1)/(u_phi+L_phi)\n",
    "\n",
    "    sigma_f = cp.Variable()\n",
    "    sigma_phi = cp.Variable()\n",
    "    rho = cp.Variable()\n",
    "    eta = cp.Variable()\n",
    "\n",
    "    M_0_part_1 = np.zeros((4,4))\n",
    "    M_0_part_2 = np.zeros((4,4))\n",
    "\n",
    "    M_0_part_1[0,0]= (1)/(2*u_phi)\n",
    "    M_0_part_1[1,1]= (-u_phi)/(2)\n",
    "\n",
    "    # M_0_part_1[1,2]= -1/2*eta\n",
    "    # M_0_part_1[2,1]= -1/2*eta\n",
    "    # M_0_part_1[2,2]= (eta*eta)/(2*u_phi)\n",
    "\n",
    "    M_0_part_2[0,0] = -1/(2*u_phi)\n",
    "\n",
    "    Compliment_part_1 = np.zeros((4,4))\n",
    "    Compliment_part_2 = np.zeros((4,4))\n",
    "\n",
    "    Compliment_part_1[1,3] = -np.sqrt(u_phi/2)\n",
    "    Compliment_part_1[3,1] = -np.sqrt(u_phi/2)\n",
    "    Compliment_part_1[3,3] = 1\n",
    "\n",
    "    Compliment_part_2[2,3] = 1/np.sqrt(u_phi*2)\n",
    "    Compliment_part_2[3,2] = 1/np.sqrt(u_phi*2)\n",
    "\n",
    "    constraints = [sigma_f >= 0]\n",
    "    constraints += [sigma_phi >= 0]\n",
    "    constraints += [(-M_0_part_1 - rho*M_0_part_2 - sigma_f*M_f - sigma_phi*M_phi + Compliment_part_1 + eta*Compliment_part_2) >> 0]\n",
    "    constraints += [rho >= 0]\n",
    "    constraints += [eta >= 0]\n",
    "    constraints += [rho <= 1]\n",
    "\n",
    "\n",
    "    prob=cp.Problem(cp.Minimize(rho), constraints)\n",
    "    # prob=cp.Problem(cp.Maximize(rho), constraints)\n",
    "    prob.solve()\n",
    "    if prob.status in [\"infeasible\", \"unbounded\"]:\n",
    "    #         print(\"Optimal value: %s\" % problem.value)\n",
    "        best_rho[k] = 1\n",
    "        argmin_eta[k] = 0\n",
    "        best_sigma_f[k] = 0\n",
    "        best_sigma_phi[k] = 0\n",
    "    else:\n",
    "        best_rho[k] = prob.value\n",
    "        argmin_eta[k] = eta.value\n",
    "        best_sigma_f[k] = sigma_f.value\n",
    "        best_sigma_phi[k] = sigma_phi.value\n",
    "    \n",
    "# print(\"The optimal value is\", prob.value)\n",
    "# print(\"A solution is\")\n",
    "# print(sigma_f.value, sigma_phi.value, eta.value)\n",
    "\n",
    "# print(prob.value == 0)"
   ]
  },
  {
   "cell_type": "code",
   "execution_count": 40,
   "metadata": {},
   "outputs": [
    {
     "name": "stderr",
     "output_type": "stream",
     "text": [
      "100it [00:01, 72.02it/s]\n",
      "100it [00:01, 71.40it/s]\n",
      "100it [00:01, 72.01it/s]\n",
      "100it [00:01, 73.94it/s]\n",
      "100it [00:01, 74.00it/s]\n",
      "100it [00:01, 74.19it/s]\n",
      "100it [00:01, 74.09it/s]\n",
      "100it [00:01, 72.14it/s]\n",
      "100it [00:01, 74.72it/s]\n",
      "100it [00:01, 74.28it/s]\n"
     ]
    }
   ],
   "source": [
    "u_f = 5\n",
    "L_f = 10\n",
    "L_phi = 3\n",
    "L_num=10\n",
    "resolution = 100\n",
    "\n",
    "u_phi_selection = np.zeros((resolution,L_num))\n",
    "argmin_eta = np.zeros((resolution,L_num))\n",
    "best_sigma_f = np.zeros((resolution,L_num))\n",
    "best_sigma_phi = np.zeros((resolution,L_num))\n",
    "best_rho= np.zeros((resolution,L_num))\n",
    "\n",
    "L_phi_selection = np.linspace(1,5,L_num,endpoint=False)\n",
    "\n",
    "for i, L_phi in enumerate(L_phi_selection):\n",
    "    u_phi_selection[:,i] = np.linspace(0.2,L_phi,resolution,endpoint=False)\n",
    "\n",
    "\n",
    "for i, L_phi in enumerate(L_phi_selection):\n",
    "    for k, u_phi in tqdm.tqdm(enumerate(u_phi_selection[:,i])):\n",
    "    # u_phi = 0.5\n",
    "\n",
    "        M_f = np.zeros((4,4))\n",
    "        M_f[1,1]= -(u_f*L_f)/(u_f+L_f)\n",
    "        M_f[1,2]= 1/2\n",
    "        M_f[2,1]= 1/2\n",
    "        M_f[2,2]= -(1)/(u_f+L_f)\n",
    "\n",
    "\n",
    "#         print(L_phi)\n",
    "        M_phi = np.zeros((4,4))\n",
    "        M_phi[1,1]= -(u_phi*L_phi)/(u_phi+L_phi)\n",
    "        M_phi[1,0]= 1/2\n",
    "        M_phi[0,1]= 1/2\n",
    "        M_phi[0,0]= -(1)/(u_phi+L_phi)\n",
    "\n",
    "        sigma_f = cp.Variable()\n",
    "        sigma_phi = cp.Variable()\n",
    "        rho = cp.Variable()\n",
    "        eta = cp.Variable()\n",
    "\n",
    "        M_0_part_1 = np.zeros((4,4))\n",
    "        M_0_part_2 = np.zeros((4,4))\n",
    "\n",
    "        M_0_part_1[0,0]= (1)/(2*u_phi)\n",
    "        M_0_part_1[1,1]= (-u_phi)/(2)\n",
    "\n",
    "        # M_0_part_1[1,2]= -1/2*eta\n",
    "        # M_0_part_1[2,1]= -1/2*eta\n",
    "        # M_0_part_1[2,2]= (eta*eta)/(2*u_phi)\n",
    "\n",
    "        M_0_part_2[0,0] = -1/(2*u_phi)\n",
    "\n",
    "        Compliment_part_1 = np.zeros((4,4))\n",
    "        Compliment_part_2 = np.zeros((4,4))\n",
    "\n",
    "        Compliment_part_1[1,3] = -np.sqrt(u_phi/2)\n",
    "        Compliment_part_1[3,1] = -np.sqrt(u_phi/2)\n",
    "        Compliment_part_1[3,3] = 1\n",
    "\n",
    "        Compliment_part_2[2,3] = 1/np.sqrt(u_phi*2)\n",
    "        Compliment_part_2[3,2] = 1/np.sqrt(u_phi*2)\n",
    "\n",
    "        constraints = [sigma_f >= 0]\n",
    "        constraints += [sigma_phi >= 0]\n",
    "        constraints += [(-M_0_part_1 - rho*M_0_part_2 - sigma_f*M_f - sigma_phi*M_phi + Compliment_part_1 + eta*Compliment_part_2) >> 0]\n",
    "        constraints += [rho >= 0]\n",
    "        constraints += [eta >= 0]\n",
    "        constraints += [rho <= 1]\n",
    "\n",
    "\n",
    "        prob=cp.Problem(cp.Minimize(rho), constraints)\n",
    "        # prob=cp.Problem(cp.Maximize(rho), constraints)\n",
    "        prob.solve()\n",
    "        if prob.status in [\"infeasible\", \"unbounded\"]:\n",
    "        #         print(\"Optimal value: %s\" % problem.value)\n",
    "            best_rho[k,i] = 1\n",
    "            argmin_eta[k,i] = 0\n",
    "            best_sigma_f[k,i] = 0\n",
    "            best_sigma_phi[k,i] = 0\n",
    "        else:\n",
    "            best_rho[k,i] = prob.value\n",
    "            argmin_eta[k,i] = eta.value\n",
    "            best_sigma_f[k,i] = sigma_f.value\n",
    "            best_sigma_phi[k,i] = sigma_phi.value\n",
    "#     plt.plot(L_phi/u_phi_selection, best_rho)\n",
    "#     plt.plot(L_phi/u_phi_selection, best_sigma_phi)\n",
    "#     plt.show()\n",
    "# print(\"The optimal value is\", prob.value)\n",
    "# print(\"A solution is\")\n",
    "# print(sigma_f.value, sigma_phi.value, eta.value)\n",
    "\n",
    "# print(prob.value == 0)"
   ]
  },
  {
   "cell_type": "code",
   "execution_count": 68,
   "metadata": {},
   "outputs": [
    {
     "data": {
      "image/png": "[encoded data removed]",
      "text/plain": [
       "<Figure size 432x288 with 1 Axes>"
      ]
     },
     "metadata": {
      "needs_background": "light"
     },
     "output_type": "display_data"
    }
   ],
   "source": [
    "for i in range(L_num):\n",
    "    plt.plot(u_phi_selection[:,9-i], best_sigma_f[:,9-i],label=\"L=\"+str(L_phi_selection[9-i])) \n",
    "#     plt.plot(u_phi_selection[:,9-i], argmin_eta[:,9-i])\n",
    "plt.xlabel(\"u_phi\")\n",
    "plt.ylabel(\"sigma_f\")\n",
    "plt.title('sigma_f when minimum rho is taken')\n",
    "plt.legend(loc='upper left')\n",
    "\n",
    "plt.savefig(\"sigma_f_wrt_u_phi\")"
   ]
  },
  {
   "cell_type": "code",
   "execution_count": 112,
   "metadata": {},
   "outputs": [
    {
     "data": {
      "text/plain": [
       "<matplotlib.legend.Legend at 0x7f4d19b33c18>"
      ]
     },
     "execution_count": 112,
     "metadata": {},
     "output_type": "execute_result"
    },
    {
     "data": {
      "image/png": "[encoded data removed]",
      "text/plain": [
       "<Figure size 432x288 with 1 Axes>"
      ]
     },
     "metadata": {
      "needs_background": "light"
     },
     "output_type": "display_data"
    }
   ],
   "source": [
    "for i in range(10):\n",
    "    plt.plot(L_phi_selection[9-i]/u_phi_selection[:,9-i], best_sigma_phi[:,9-i],label=\"L=\"+str(L_phi_selection[9-i])) \n",
    "#     plt.plot(L_phi_selection[9-i]/u_phi_selection[:,9-i], 1/best_sigma_phi[:,9-i]-(L_phi_selection[9-i]/u_phi_selection[:,9-i]),label=\"L=\"+str(L_phi_selection[9-i])) \n",
    "#     plt.plot(u_phi_selection[:,9-i], argmin_eta[:,9-i])\n",
    "plt.plot(x,y,label=\"theoretical\")\n",
    "\n",
    "plt.xlabel(\"kappa\")\n",
    "plt.ylabel(\"1 / sigma_phi\")\n",
    "# plt.xlim(0,5)\n",
    "# plt.ylim(0,20)\n",
    "plt.title('1/sigma_phi when minimum rho is taken')\n",
    "plt.legend(loc='upper right')\n",
    "\n",
    "# plt.savefig(\"1_over_sigma_phi_wrt_kappa\")"
   ]
  },
  {
   "cell_type": "code",
   "execution_count": 109,
   "metadata": {},
   "outputs": [
    {
     "name": "stdout",
     "output_type": "stream",
     "text": [
      "1000\n"
     ]
    },
    {
     "data": {
      "image/png": "[encoded data removed]",
      "text/plain": [
       "<Figure size 432x288 with 1 Axes>"
      ]
     },
     "metadata": {
      "needs_background": "light"
     },
     "output_type": "display_data"
    }
   ],
   "source": [
    "x = np.linspace(1.1,30,1000,endpoint=False)\n",
    "print(x.shape[0])\n",
    "y = np.zeros(x.shape[0])\n",
    "for i in range(1000):\n",
    "    y[i] = 4*u_f*L_f/(u_f+L_f)**2 * (1+x[i])/(x[i]*(x[i]-1))\n",
    "# print(y)\n",
    "plt.plot(x,y)\n",
    "plt.show()"
   ]
  },
  {
   "cell_type": "code",
   "execution_count": 118,
   "metadata": {},
   "outputs": [
    {
     "data": {
      "image/png": "[encoded data removed]",
      "text/plain": [
       "<Figure size 432x288 with 1 Axes>"
      ]
     },
     "metadata": {
      "needs_background": "light"
     },
     "output_type": "display_data"
    }
   ],
   "source": [
    "for i in range(L_num):\n",
    "    plt.plot(L_phi_selection[9-i]/u_phi_selection[:,9-i], best_rho[:,9-i] ,label=\"L=\"+str(L_phi_selection[9-i])) \n",
    "#     plt.plot(u_phi_selection[:,9-i], argmin_eta[:,9-i])\n",
    "plt.plot(x,y,label=\"theoretical\")\n",
    "\n",
    "plt.xlabel(\"kappa\")\n",
    "plt.ylabel(\"rho\")\n",
    "# plt.xlim(0,5)\n",
    "# plt.ylim(0,50)\n",
    "plt.title('minimum rho')\n",
    "plt.legend(loc='lower right')\n",
    "plt.savefig(\"sigma_phi_wrt_kappa_theory\")"
   ]
  },
  {
   "cell_type": "code",
   "execution_count": 115,
   "metadata": {},
   "outputs": [
    {
     "name": "stdout",
     "output_type": "stream",
     "text": [
      "1000\n"
     ]
    },
    {
     "data": {
      "image/png": "[encoded data removed]",
      "text/plain": [
       "<Figure size 432x288 with 1 Axes>"
      ]
     },
     "metadata": {
      "needs_background": "light"
     },
     "output_type": "display_data"
    }
   ],
   "source": [
    "x = np.linspace(1.1,30,1000,endpoint=False)\n",
    "print(x.shape[0])\n",
    "y = np.zeros(x.shape[0])\n",
    "for i in range(1000):\n",
    "    y[i] = 1 - 4*u_f*L_f/(u_f+L_f)**2 /x[i]**2\n",
    "# print(y)\n",
    "plt.plot(x,y)\n",
    "plt.show()"
   ]
  },
  {
   "cell_type": "code",
   "execution_count": 1,
   "metadata": {},
   "outputs": [],
   "source": [
    "import mosek"
   ]
  },
  {
   "cell_type": "code",
   "execution_count": 2,
   "metadata": {},
   "outputs": [
    {
     "ename": "AttributeError",
     "evalue": "module 'mosek' has no attribute 'setSolverParam'",
     "output_type": "error",
     "traceback": [
      "\u001b[0;31m---------------------------------------------------------------------------\u001b[0m",
      "\u001b[0;31mAttributeError\u001b[0m                            Traceback (most recent call last)",
      "\u001b[0;32m<ipython-input-2-220fee9ba17c>\u001b[0m in \u001b[0;36m<module>\u001b[0;34m\u001b[0m\n\u001b[0;32m----> 1\u001b[0;31m \u001b[0mmosek\u001b[0m\u001b[0;34m.\u001b[0m\u001b[0msetSolverParam\u001b[0m\u001b[0;34m(\u001b[0m\u001b[0;34m\"numThreads\"\u001b[0m\u001b[0;34m,\u001b[0m \u001b[0;36m4\u001b[0m\u001b[0;34m)\u001b[0m\u001b[0;34m\u001b[0m\u001b[0;34m\u001b[0m\u001b[0m\n\u001b[0m",
      "\u001b[0;31mAttributeError\u001b[0m: module 'mosek' has no attribute 'setSolverParam'"
     ]
    }
   ],
   "source": [
    "mosek.setSolverParam(\"numThreads\", 4)"
   ]
  },
  {
   "cell_type": "code",
   "execution_count": null,
   "metadata": {},
   "outputs": [],
   "source": []
  }
 ],
 "metadata": {
  "kernelspec": {
   "display_name": "Python 3 (ipykernel)",
   "language": "python",
   "name": "python3"
  },
  "language_info": {
   "codemirror_mode": {
    "name": "ipython",
    "version": 3
   },
   "file_extension": ".py",
   "mimetype": "text/x-python",
   "name": "python",
   "nbconvert_exporter": "python",
   "pygments_lexer": "ipython3",
   "version": "3.9.7"
  }
 },
 "nbformat": 4,
 "nbformat_minor": 4
}
