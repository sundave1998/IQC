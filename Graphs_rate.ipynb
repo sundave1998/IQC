{
 "cells": [
  {
   "cell_type": "code",
   "execution_count": 1,
   "metadata": {},
   "outputs": [],
   "source": [
    "import numpy as np\n",
    "import cvxpy as cp\n",
    "import tqdm as tqdm\n",
    "import matplotlib.pyplot as plt"
   ]
  },
  {
   "cell_type": "code",
   "execution_count": 2,
   "metadata": {},
   "outputs": [],
   "source": [
    "u_f = 1\n",
    "L_f = 3\n",
    "\n",
    "u_phi = 1\n",
    "L_phi = 1\n",
    " "
   ]
  },
  {
   "cell_type": "code",
   "execution_count": 3,
   "metadata": {},
   "outputs": [],
   "source": [
    "resolution = 20\n",
    "\n",
    "EXTRA_best_list_neg = np.zeros(10)\n",
    "EXTRA_best_list_pos = np.zeros(10)\n",
    "EXTRA_best_list = np.zeros(10)"
   ]
  },
  {
   "cell_type": "code",
   "execution_count": 9,
   "metadata": {},
   "outputs": [],
   "source": [
    "for lambeda_choice in range(10):\n",
    "    \n",
    "\n",
    "    lambda_1 = (lambeda_choice/20)\n",
    "    lambda_min = 0\n",
    "    lambda_min = lambda_1\n",
    "    u_g = u_f \n",
    "    \n",
    "#     alpha = u_g*(1 + lambda_min)/(4*L_f*L_f)\n",
    "    # lambda_2 = 0.2\n",
    "\n",
    "#     EXTRA_theta  = cp.Variable()\n",
    "    theta_selection = np.linspace(1,10,resolution)\n",
    "    EXTRA_rate = np.ones((resolution, resolution, resolution))\n",
    "#     IQC_rate = np.ones(resolution) * best_rho\n",
    "\n",
    "\n",
    "    for i, EXTRA_theta in enumerate(theta_selection[1:]):\n",
    "        for k, eta_EXTRA in enumerate(np.linspace(0,2*u_g,resolution)[1:]):\n",
    "            for j, alpha in enumerate(np.linspace(0,eta_EXTRA*((1 + lambda_min)/2)/(L_f**2),resolution)[1:]):\n",
    "                delta_1 = alpha*(2*u_g - eta_EXTRA )*((1 - lambda_1)/2)/(EXTRA_theta * alpha* alpha * L_f * L_f + ((1 - lambda_1)/2))\n",
    "#                 delta_1 = alpha*(2*u_g - eta_EXTRA )\n",
    "                delta_1 = np.max((delta_1, 0))\n",
    "\n",
    "                delta_2 = ((EXTRA_theta - 1)*(eta_EXTRA*(1 + lambda_min)/2 - alpha* L_f * L_f)* ((1 - lambda_1)/2)/ \n",
    "                           (EXTRA_theta * eta_EXTRA * (1+alpha *L_f )* (1+alpha *L_f )))\n",
    "                delta_2 = np.max((delta_2, 0))\n",
    "                best_delta = np.minimum(delta_1,delta_2)\n",
    "\n",
    "                EXTRA_rate[i,j,k] = 1/(1 + best_delta)\n",
    "#     u_g = u_f \n",
    "#     alpha = u_g*(1 + 0)/(4*L_f*L_f)\n",
    "#     lambda_2 = (lambeda_choice/20)\n",
    "\n",
    "#     EXTRA_theta  = cp.Variable()\n",
    "#     resolution = 10000\n",
    "#     theta_selection = np.linspace(1,10,resolution,endpoint=False)\n",
    "#     EXTRA_rate = np.zeros(resolution)\n",
    "#     IQC_rate = np.ones(resolution) * best_rho\n",
    "\n",
    "\n",
    "#     for i, EXTRA_theta in enumerate(theta_selection):\n",
    "#         delta_1 = alpha*(u_g )*(1 - lambda_2)/(EXTRA_theta * alpha * L_f * L_f + (1 - lambda_2 ))\n",
    "\n",
    "#         delta_2 = (EXTRA_theta - 1)*u_g* (1 - lambda_2 ) / (EXTRA_theta * u_g * (1+alpha *L_f )* (1+alpha *L_f ))\n",
    "\n",
    "#         best_delta = np.minimum(delta_1,delta_2)\n",
    "\n",
    "#         EXTRA_rate[i] = 1/(1 + best_delta)\n",
    "    EXTRA_best_list_pos[lambeda_choice] = np.min(EXTRA_rate)"
   ]
  },
  {
   "cell_type": "code",
   "execution_count": 5,
   "metadata": {},
   "outputs": [
    {
     "name": "stdout",
     "output_type": "stream",
     "text": [
      "0.9969144020165415\n",
      "0.9972151749720736\n",
      "0.9975005382983144\n",
      "0.997770489666242\n",
      "0.9980250268771884\n",
      "0.9982641478623137\n",
      "0.9984878506820831\n",
      "0.9986961335257469\n",
      "0.9988889947108229\n",
      "0.9990664326825822\n"
     ]
    }
   ],
   "source": [
    "Qu_Na_best_list = np.zeros(10)\n",
    "for lambeda_choice in range(10):\n",
    "    \n",
    "\n",
    "    lambda_1 = (lambeda_choice/20)\n",
    "    G = np.zeros((3,3))\n",
    "#     learning_eta = 1/L_f\n",
    "    learning_eta = (u_f/L_f**2)*((1-lambda_1)/6)**2\n",
    "    G[0,0] = lambda_1 + L_f*learning_eta\n",
    "    G[0,1] = (2 + L_f*learning_eta)*L_f\n",
    "    G[0,2] = ( L_f*learning_eta)*L_f\n",
    "    G[1,0] = learning_eta\n",
    "    G[1,1] = lambda_1\n",
    "    G[2,1] = L_f*learning_eta\n",
    "    G[2,2] = np.max([np.abs(1 - u_f*learning_eta), np.abs(1 - L_f*learning_eta)])\n",
    "    rho_G = np.max(np.abs(np.linalg.eig(G)[0]))\n",
    "    print(rho_G)\n",
    "    Qu_Na_best_list[lambeda_choice] = rho_G\n"
   ]
  },
  {
   "cell_type": "code",
   "execution_count": 6,
   "metadata": {},
   "outputs": [],
   "source": [
    "# NIDS_best_list = np.zeros(10)\n",
    "# for lambeda_choice in range(10):\n",
    "    \n",
    "\n",
    "#     lambda_1 = (lambeda_choice/20)\n",
    "#     learning_eta = 1/L_f\n",
    "# #     learning_eta = (u_f/L_f**2)*((1-lambda_1)/6)**2\n",
    "    \n",
    "#     rho_NIDS = np.max([])\n",
    "#     print(rho_NIDS)\n",
    "#     NIDS_best_list[lambeda_choice] = rho_NIDS\n"
   ]
  },
  {
   "cell_type": "code",
   "execution_count": 4,
   "metadata": {
    "scrolled": true
   },
   "outputs": [
    {
     "ename": "NameError",
     "evalue": "name 'Qu_Na_best_list' is not defined",
     "output_type": "error",
     "traceback": [
      "\u001b[0;31m---------------------------------------------------------------------------\u001b[0m",
      "\u001b[0;31mNameError\u001b[0m                                 Traceback (most recent call last)",
      "\u001b[0;32m/tmp/ipykernel_403/2556242657.py\u001b[0m in \u001b[0;36m<module>\u001b[0;34m\u001b[0m\n\u001b[1;32m      5\u001b[0m \u001b[0mplt\u001b[0m\u001b[0;34m.\u001b[0m\u001b[0mplot\u001b[0m\u001b[0;34m(\u001b[0m\u001b[0mx_selection\u001b[0m\u001b[0;34m,\u001b[0m \u001b[0mEXTRA_best_list_neg\u001b[0m\u001b[0;34m,\u001b[0m \u001b[0mlabel\u001b[0m\u001b[0;34m=\u001b[0m\u001b[0;34m\"Theoretical rate of EXTRA neg\"\u001b[0m\u001b[0;34m)\u001b[0m\u001b[0;34m\u001b[0m\u001b[0;34m\u001b[0m\u001b[0m\n\u001b[1;32m      6\u001b[0m \u001b[0mplt\u001b[0m\u001b[0;34m.\u001b[0m\u001b[0mplot\u001b[0m\u001b[0;34m(\u001b[0m\u001b[0mx_selection\u001b[0m\u001b[0;34m,\u001b[0m \u001b[0mEXTRA_best_list_pos\u001b[0m\u001b[0;34m,\u001b[0m \u001b[0mlabel\u001b[0m\u001b[0;34m=\u001b[0m\u001b[0;34m\"Theoretical rate of EXTRA pos\"\u001b[0m\u001b[0;34m)\u001b[0m\u001b[0;34m\u001b[0m\u001b[0;34m\u001b[0m\u001b[0m\n\u001b[0;32m----> 7\u001b[0;31m \u001b[0mplt\u001b[0m\u001b[0;34m.\u001b[0m\u001b[0mplot\u001b[0m\u001b[0;34m(\u001b[0m\u001b[0mx_selection\u001b[0m\u001b[0;34m,\u001b[0m \u001b[0mQu_Na_best_list\u001b[0m\u001b[0;34m,\u001b[0m \u001b[0mlabel\u001b[0m\u001b[0;34m=\u001b[0m\u001b[0;34m\"Theoretical rate of Qu et al.\"\u001b[0m\u001b[0;34m)\u001b[0m\u001b[0;34m\u001b[0m\u001b[0;34m\u001b[0m\u001b[0m\n\u001b[0m\u001b[1;32m      8\u001b[0m \u001b[0mplt\u001b[0m\u001b[0;34m.\u001b[0m\u001b[0mylim\u001b[0m\u001b[0;34m(\u001b[0m\u001b[0;36m0.5\u001b[0m\u001b[0;34m,\u001b[0m\u001b[0;36m1.01\u001b[0m\u001b[0;34m)\u001b[0m\u001b[0;34m\u001b[0m\u001b[0;34m\u001b[0m\u001b[0m\n\u001b[1;32m      9\u001b[0m \u001b[0mplt\u001b[0m\u001b[0;34m.\u001b[0m\u001b[0mlegend\u001b[0m\u001b[0;34m(\u001b[0m\u001b[0;34m)\u001b[0m\u001b[0;34m\u001b[0m\u001b[0;34m\u001b[0m\u001b[0m\n",
      "\u001b[0;31mNameError\u001b[0m: name 'Qu_Na_best_list' is not defined"
     ]
    },
    {
     "data": {
      "image/png": "[encoded data removed]",
      "text/plain": [
       "<Figure size 432x288 with 1 Axes>"
      ]
     },
     "metadata": {
      "needs_background": "light"
     },
     "output_type": "display_data"
    }
   ],
   "source": [
    "IQC_best_list = np.load(\"IQC_best_list_1_3.npy\")\n",
    "x_selection = np.linspace(0,0.5,10, endpoint=False)\n",
    "plt.plot(x_selection, IQC_best_list, label=\"QC (our result)\")\n",
    "plt.plot(x_selection, EXTRA_best_list, label=\"Theoretical rate of EXTRA\")\n",
    "plt.plot(x_selection, EXTRA_best_list_neg, label=\"Theoretical rate of EXTRA neg\")\n",
    "plt.plot(x_selection, EXTRA_best_list_pos, label=\"Theoretical rate of EXTRA pos\")\n",
    "plt.plot(x_selection, Qu_Na_best_list, label=\"Theoretical rate of Qu et al.\")\n",
    "plt.ylim(0.5,1.01)\n",
    "plt.legend()\n",
    "plt.xlabel(\"$\\lambda$\")\n",
    "plt.ylabel(\"Convergence Rate\")\n",
    "# plt.show()\n",
    "# plt.savefig(\"Comparison_all.pdf\")\n",
    "print(EXTRA_best_list)\n"
   ]
  },
  {
   "cell_type": "code",
   "execution_count": null,
   "metadata": {},
   "outputs": [],
   "source": []
  }
 ],
 "metadata": {
  "kernelspec": {
   "display_name": "Python 3 (ipykernel)",
   "language": "python",
   "name": "python3"
  },
  "language_info": {
   "codemirror_mode": {
    "name": "ipython",
    "version": 3
   },
   "file_extension": ".py",
   "mimetype": "text/x-python",
   "name": "python",
   "nbconvert_exporter": "python",
   "pygments_lexer": "ipython3",
   "version": "3.9.7"
  }
 },
 "nbformat": 4,
 "nbformat_minor": 4
}
