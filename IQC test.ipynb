{
 "cells": [
  {
   "cell_type": "code",
   "execution_count": 40,
   "metadata": {},
   "outputs": [],
   "source": [
    "import numpy as np\n",
    "import cvxpy as cp\n",
    "import tqdm as tqdm\n",
    "import matplotlib.pyplot as plt\n"
   ]
  },
  {
   "cell_type": "code",
   "execution_count": 33,
   "metadata": {},
   "outputs": [
    {
     "name": "stdout",
     "output_type": "stream",
     "text": [
      "[[ 5.e-02  0.e+00  0.e+00]\n",
      " [ 0.e+00  0.e+00 -5.e+00]\n",
      " [ 0.e+00 -5.e+00  5.e+01]]\n",
      "[[ 0.          0.          0.        ]\n",
      " [ 0.         -0.90909091  0.5       ]\n",
      " [ 0.          0.5        -0.09090909]]\n",
      "[[-0.5  0.5  0. ]\n",
      " [ 0.5 -0.5  0. ]\n",
      " [ 0.   0.   0. ]]\n"
     ]
    }
   ],
   "source": [
    "u_f = 1\n",
    "L_f = 10\n",
    "\n",
    "u_phi = 1\n",
    "L_phi = 1\n",
    "\n",
    "M_f = np.zeros((3,3))\n",
    "M_f[1,1]= -(u_f*L_f)/(u_f+L_f)\n",
    "M_f[1,2]= 1/2\n",
    "M_f[2,1]= 1/2\n",
    "M_f[2,2]= -(1)/(u_f+L_f)\n",
    "\n",
    "\n",
    "M_phi = np.zeros((3,3))\n",
    "M_phi[1,1]= -(u_phi*L_phi)/(u_phi+L_phi)\n",
    "M_phi[1,0]= 1/2\n",
    "M_phi[0,1]= 1/2\n",
    "M_phi[0,0]= -(1)/(u_phi+L_phi)\n",
    "\n",
    "eta = 10\n",
    "rho = 0.9\n",
    "M_0 = np.zeros((3,3))\n",
    "M_0[0,0]= (1-rho)/(2*u_f)\n",
    "M_0[1,2]= -1/2*eta\n",
    "M_0[2,1]= -1/2*eta\n",
    "M_0[2,2]= (eta*eta)/(2*u_f)\n",
    "\n",
    "print(M_0)\n",
    "print(M_f)\n",
    "print(M_phi)"
   ]
  },
  {
   "cell_type": "code",
   "execution_count": 34,
   "metadata": {},
   "outputs": [
    {
     "name": "stdout",
     "output_type": "stream",
     "text": [
      "The optimal value is inf\n",
      "A solution is\n",
      "None None\n",
      "False\n"
     ]
    }
   ],
   "source": [
    "sigma_f = cp.Variable()\n",
    "sigma_phi = cp.Variable()\n",
    "constraints = [sigma_f >= 0]\n",
    "constraints += [sigma_phi >= 0]\n",
    "constraints += [(M_0 + sigma_f*M_f + sigma_phi*M_phi) << 0]\n",
    "\n",
    "prob=cp.Problem(cp.Minimize(0),\n",
    "                  constraints)\n",
    "prob.solve()\n",
    "\n",
    "\n",
    "print(\"The optimal value is\", prob.value)\n",
    "print(\"A solution is\")\n",
    "print(sigma_f.value, sigma_phi.value)\n",
    "\n",
    "print(prob.value == 0)"
   ]
  },
  {
   "cell_type": "code",
   "execution_count": 53,
   "metadata": {},
   "outputs": [
    {
     "name": "stderr",
     "output_type": "stream",
     "text": [
      "1000it [3:57:53, 14.27s/it]\n"
     ]
    }
   ],
   "source": [
    "M_0_cp = cp.Parameter((3,3))\n",
    "M_0_cp.value = M_0\n",
    "sigma_f = cp.Variable()\n",
    "sigma_phi = cp.Variable()\n",
    "constraints = [sigma_f >= 0]\n",
    "constraints += [sigma_phi >= 0]\n",
    "constraints += [(M_0_cp + sigma_f*M_f + sigma_phi*M_phi) << 0]\n",
    "prob=cp.Problem(cp.Minimize(0), constraints)\n",
    "\n",
    "resolution =1000\n",
    "solvable =  np.zeros((resolution,resolution))\n",
    "etas = np.linspace(0,1,resolution,endpoint=False)\n",
    "rhos = np.linspace(0,1,resolution,endpoint=False)\n",
    "for i, eta in tqdm.tqdm(enumerate(etas)):\n",
    "    for j, rho in enumerate(rhos):\n",
    "        M_0 = np.zeros((3,3))\n",
    "        M_0[0,0]= (1-rho)/(2*u_f)\n",
    "        M_0[1,2]= -1/2*eta\n",
    "        M_0[2,1]= -1/2*eta\n",
    "        M_0[2,2]= (eta*eta)/(2*u_f)\n",
    "        \n",
    "        M_0_cp.value = M_0\n",
    "\n",
    "        prob.solve()\n",
    "#         print(\"The optimal value is\", prob.value)\n",
    "        if(prob.value == 0):\n",
    "            solvable[resolution-j,i] = 1\n",
    "#             print(\"this is solvable\", eta, rho)\n",
    "#         else:\n",
    "#             solvable[i,j] = 0\n"
   ]
  },
  {
   "cell_type": "code",
   "execution_count": null,
   "metadata": {},
   "outputs": [],
   "source": [
    "print(solvable)\n",
    "plt.imshow(solvable)\n",
    "plt.show()"
   ]
  },
  {
   "cell_type": "code",
   "execution_count": null,
   "metadata": {},
   "outputs": [],
   "source": []
  }
 ],
 "metadata": {
  "kernelspec": {
   "display_name": "Python 3",
   "language": "python",
   "name": "python3"
  },
  "language_info": {
   "codemirror_mode": {
    "name": "ipython",
    "version": 3
   },
   "file_extension": ".py",
   "mimetype": "text/x-python",
   "name": "python",
   "nbconvert_exporter": "python",
   "pygments_lexer": "ipython3",
   "version": "3.7.3"
  }
 },
 "nbformat": 4,
 "nbformat_minor": 4
}
