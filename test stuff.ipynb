{
 "cells": [
  {
   "cell_type": "code",
   "execution_count": 1,
   "id": "2207cba5-d1ea-496f-85ce-0c4c80b57010",
   "metadata": {},
   "outputs": [],
   "source": [
    "import numpy as np"
   ]
  },
  {
   "cell_type": "code",
   "execution_count": 13,
   "id": "350f723e-83d7-452f-81c6-7fbd081b33ec",
   "metadata": {},
   "outputs": [
    {
     "name": "stdout",
     "output_type": "stream",
     "text": [
      "[[0.53333333 0.13333333 0.33333333]\n",
      " [0.13333333 0.53333333 0.33333333]\n",
      " [0.33333333 0.33333333 0.33333333]]\n",
      "[[0.33333333 0.33333333 0.33333333]\n",
      " [0.33333333 0.33333333 0.33333333]\n",
      " [0.33333333 0.33333333 0.33333333]]\n",
      "[[ 0.66666667 -0.33333333 -0.33333333]\n",
      " [-0.33333333  0.66666667 -0.33333333]\n",
      " [-0.33333333 -0.33333333  0.66666667]]\n",
      "[[0.25 0.75 0.  ]\n",
      " [0.75 0.25 0.  ]\n",
      " [0.   0.   0.  ]]\n"
     ]
    }
   ],
   "source": [
    "dim = 3\n",
    "\n",
    "\n",
    "P2 = np.ones((dim,dim))/(dim)\n",
    "\n",
    "P2p = np.eye(dim) - np.ones((dim,dim))/(dim)\n",
    "\n",
    "P1 = np.ones((dim,dim))/(dim)\n",
    "P1[0,0] = P1[1,1] = 1/(dim) +0.2\n",
    "P1[0,1] = P1[1,0] = 1/(dim) - 0.2\n",
    "\n",
    "\n",
    "A = np.zeros((dim,dim))/dim\n",
    "A[0,0] = A[1,1] = 0.25\n",
    "A[0,1] = A[1,0] = 0.75\n",
    "print(P1)\n",
    "print(P2)\n",
    "print(P2p)\n",
    "print(A)"
   ]
  },
  {
   "cell_type": "code",
   "execution_count": 14,
   "id": "16cd6476-0585-4120-96a3-cce3c4b44d15",
   "metadata": {},
   "outputs": [
    {
     "name": "stdout",
     "output_type": "stream",
     "text": [
      "[[-0.1  0.1  0. ]\n",
      " [ 0.1 -0.1  0. ]\n",
      " [ 0.   0.   0. ]]\n",
      "0.20000000000000007\n",
      "0.4\n"
     ]
    }
   ],
   "source": [
    "k=200\n",
    "\n",
    "dif = (A@P1) - (A@P2)\n",
    "dif_origin = (P1) - (P2)\n",
    "print(dif)\n",
    "\n",
    "print(np.linalg.norm(dif))\n",
    "print(np.linalg.norm(dif_origin))"
   ]
  },
  {
   "cell_type": "code",
   "execution_count": 24,
   "id": "ca3f5f6a-9070-4756-8d35-aa54e4322173",
   "metadata": {},
   "outputs": [
    {
     "name": "stdout",
     "output_type": "stream",
     "text": [
      "[[0.71288401 0.52864701 0.16174242]\n",
      " [0.52864701 0.4357178  0.11114751]\n",
      " [0.16174242 0.11114751 0.04062022]]\n",
      "[[0.71288401 0.52864701 0.16174242]\n",
      " [0.52864701 0.4357178  0.11114751]\n",
      " [0.16174242 0.11114751 0.04062022]]\n",
      "[[0.00238727 0.00238727 0.00238727]\n",
      " [0.00238727 0.00238727 0.00238727]\n",
      " [0.00238727 0.00238727 0.00238727]]\n"
     ]
    }
   ],
   "source": [
    "A= np.random.rand(dim,dim)\n",
    "A = A@A.T\n",
    "\n",
    "print(A)\n",
    "A2 = A - np.mean(A)\n",
    "A1 = A - A2\n",
    "print(A)\n",
    "print(((P2)@(A2 )@(P1-P2)@A2@P2))"
   ]
  },
  {
   "cell_type": "code",
   "execution_count": 78,
   "id": "91d93307-ad7f-4c92-8696-6834c8e25346",
   "metadata": {},
   "outputs": [
    {
     "name": "stdout",
     "output_type": "stream",
     "text": [
      "[[0.33333333 0.33333333 0.33333333]\n",
      " [0.33333333 0.33333333 0.33333333]\n",
      " [0.33333333 0.33333333 0.33333333]]\n"
     ]
    }
   ],
   "source": [
    "print((P2@P2@P2@P2@P2@P2))"
   ]
  },
  {
   "cell_type": "code",
   "execution_count": null,
   "id": "9fa9fa3c-ffd2-476c-a3fb-a1daa7b5908e",
   "metadata": {},
   "outputs": [],
   "source": []
  }
 ],
 "metadata": {
  "kernelspec": {
   "display_name": "Python 3 (ipykernel)",
   "language": "python",
   "name": "python3"
  },
  "language_info": {
   "codemirror_mode": {
    "name": "ipython",
    "version": 3
   },
   "file_extension": ".py",
   "mimetype": "text/x-python",
   "name": "python",
   "nbconvert_exporter": "python",
   "pygments_lexer": "ipython3",
   "version": "3.9.7"
  }
 },
 "nbformat": 4,
 "nbformat_minor": 5
}
