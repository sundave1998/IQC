{
 "cells": [
  {
   "cell_type": "code",
   "execution_count": 2,
   "metadata": {},
   "outputs": [],
   "source": [
    "# we consider a least square problem, f(x) = (Ax-b)^2\n",
    "import numpy as np\n",
    "import numpy.linalg as la\n",
    "from scipy.stats import ortho_group\n",
    "import matplotlib.pyplot as plt\n",
    "from tqdm.notebook import tqdm\n",
    "from math import sqrt\n",
    "\n",
    "\n",
    "import warnings\n",
    "warnings.filterwarnings(\"error\")"
   ]
  },
  {
   "cell_type": "code",
   "execution_count": 3,
   "metadata": {},
   "outputs": [
    {
     "name": "stdout",
     "output_type": "stream",
     "text": [
      "15\n"
     ]
    }
   ],
   "source": [
    "np.random.seed(seed=42)\n",
    "agent_num = 10\n",
    "\n",
    "d=100\n",
    "data_num = 20\n",
    "# x_opt = np.ones((d))/d\n",
    "x_opt = np.random.randn(d)+10\n",
    "x_local_opt = np.tile(x_opt,(agent_num, 1))\n",
    "x_local_opt = x_local_opt+  np.random.rand(agent_num, d)\n",
    "# print(x_local_opt[:,0])\n",
    "# P = ortho_group.rvs(d)\n",
    "A = np.zeros((agent_num, data_num, d))\n",
    "b = np.zeros((agent_num, data_num))\n",
    "\n",
    "for i in range(agent_num):\n",
    "    P = ortho_group.rvs(d)\n",
    "    eigv = (np.random.rand(d))\n",
    "    eigv[0:5] = np.zeros(5)\n",
    "    A_temp = np.matmul( np.diag(eigv), P)\n",
    "    A[i] = A_temp[0:data_num,:]\n",
    "# A = np.matmul(np.transpose(P), np.matmul( np.diag(eigv), P))\n",
    "# x_opt = np.random.rand(d)\n",
    "    b[i] = np.matmul( A[i], x_local_opt[i])\n",
    "    \n",
    "    \n",
    "# filename = \"d_1000_n_10\"\n",
    "# np.save(filename+\"_A\", A)\n",
    "# np.save(filename+\"_b\", b)\n",
    "# np.save(filename+\"_x\", x_opt)\n",
    "print(np.linalg.matrix_rank(np.matmul(np.transpose(A[1]), A[1])))\n"
   ]
  },
  {
   "cell_type": "code",
   "execution_count": 4,
   "metadata": {},
   "outputs": [
    {
     "name": "stdout",
     "output_type": "stream",
     "text": [
      "7.458751749331938\n"
     ]
    },
    {
     "data": {
      "image/png": "[encoded data removed]",
      "text/plain": [
       "<Figure size 432x288 with 1 Axes>"
      ]
     },
     "metadata": {
      "needs_background": "light"
     },
     "output_type": "display_data"
    }
   ],
   "source": [
    "# gamma = np.load(\"gamma.npy\")\n",
    "\n",
    "# # we first try to calculate the real optimal x_star\n",
    "A_stack = np.reshape(A, (200,100))\n",
    "b_stack = np.reshape(b, (200))\n",
    "\n",
    "\n",
    "# C = np.zeros((d,d-1))\n",
    "# for i in range(d-1):\n",
    "#     C[i,i] = 1\n",
    "# C[d-1,:]=-1\n",
    "# # print(C)np.log(loss_x_global_GD[0,500000])\n",
    "# A_prime = np.matmul(A_stack, C)\n",
    "\n",
    "# c_vector = np.zeros((d))\n",
    "# c_vector[-1]=1\n",
    "# # print(c_vector)\n",
    "# b_prime = b_stack - np.matmul(A_stack, c_vector)\n",
    "\n",
    "\n",
    "# pinv_A = np.linalg.pinv(A_prime)\n",
    "# x_temp = np.matmul(pinv_A, b_prime)\n",
    "# x_direct = np.zeros((d))\n",
    "# x_direct[:d-1] = x_temp\n",
    "# x_direct[d-1] = 1 - np.sum(x_temp)\n",
    "# print(x_direct[0])\n",
    "# error = np.matmul(A_stack, x_direct)-b_stack\n",
    "# loss_star = np.matmul(np.transpose(error), error)\n",
    "# print(np.sum(loss_star))\n",
    "pinv_A = np.linalg.pinv(A_stack)\n",
    "x_direct = np.matmul(pinv_A, b_stack)\n",
    "# print(x_direct[0])\n",
    "error = np.matmul(A_stack, x_direct)-b_stack\n",
    "loss_star = np.matmul(np.transpose(error), error)\n",
    "plt.plot(x_direct)\n",
    "print(np.min(x_direct))\n"
   ]
  },
  {
   "cell_type": "code",
   "execution_count": 51,
   "metadata": {},
   "outputs": [
    {
     "data": {
      "application/vnd.jupyter.widget-view+json": {
       "model_id": "fa921d1b68fc4e7ea4ca02fce6f28546",
       "version_major": 2,
       "version_minor": 0
      },
      "text/plain": [
       "HBox(children=(FloatProgress(value=0.0, max=1000000.0), HTML(value='')))"
      ]
     },
     "metadata": {},
     "output_type": "display_data"
    },
    {
     "name": "stdout",
     "output_type": "stream",
     "text": [
      "\n"
     ]
    },
    {
     "ename": "KeyboardInterrupt",
     "evalue": "",
     "output_type": "error",
     "traceback": [
      "\u001b[0;31m---------------------------------------------------------------------------\u001b[0m",
      "\u001b[0;31mKeyboardInterrupt\u001b[0m                         Traceback (most recent call last)",
      "\u001b[0;32m<ipython-input-51-85cf5308b17c>\u001b[0m in \u001b[0;36m<module>\u001b[0;34m\u001b[0m\n\u001b[1;32m     74\u001b[0m \u001b[0;31m#         print(x_k[i,:])\u001b[0m\u001b[0;34m\u001b[0m\u001b[0;34m\u001b[0m\u001b[0;34m\u001b[0m\u001b[0m\n\u001b[1;32m     75\u001b[0m \u001b[0;31m#         np.matmul(A_stack, )\u001b[0m\u001b[0;34m\u001b[0m\u001b[0;34m\u001b[0m\u001b[0;34m\u001b[0m\u001b[0m\n\u001b[0;32m---> 76\u001b[0;31m         \u001b[0merror\u001b[0m \u001b[0;34m=\u001b[0m \u001b[0mnp\u001b[0m\u001b[0;34m.\u001b[0m\u001b[0mmatmul\u001b[0m\u001b[0;34m(\u001b[0m\u001b[0mA_stack\u001b[0m\u001b[0;34m,\u001b[0m \u001b[0mx_k\u001b[0m\u001b[0;34m[\u001b[0m\u001b[0mi\u001b[0m\u001b[0;34m,\u001b[0m\u001b[0;34m:\u001b[0m\u001b[0;34m]\u001b[0m\u001b[0;34m)\u001b[0m\u001b[0;34m-\u001b[0m\u001b[0mb_stack\u001b[0m\u001b[0;34m\u001b[0m\u001b[0;34m\u001b[0m\u001b[0m\n\u001b[0m\u001b[1;32m     77\u001b[0m         \u001b[0mloss_x_global\u001b[0m\u001b[0;34m[\u001b[0m\u001b[0mi\u001b[0m\u001b[0;34m,\u001b[0m\u001b[0mk\u001b[0m\u001b[0;34m]\u001b[0m \u001b[0;34m=\u001b[0m \u001b[0mnp\u001b[0m\u001b[0;34m.\u001b[0m\u001b[0mmatmul\u001b[0m\u001b[0;34m(\u001b[0m\u001b[0mnp\u001b[0m\u001b[0;34m.\u001b[0m\u001b[0mtranspose\u001b[0m\u001b[0;34m(\u001b[0m\u001b[0merror\u001b[0m\u001b[0;34m)\u001b[0m\u001b[0;34m,\u001b[0m \u001b[0merror\u001b[0m\u001b[0;34m)\u001b[0m\u001b[0;34m\u001b[0m\u001b[0;34m\u001b[0m\u001b[0m\n\u001b[1;32m     78\u001b[0m \u001b[0;31m#         if((loss_x_global[i,k]-loss_star)< 0.01):\u001b[0m\u001b[0;34m\u001b[0m\u001b[0;34m\u001b[0m\u001b[0;34m\u001b[0m\u001b[0m\n",
      "\u001b[0;31mKeyboardInterrupt\u001b[0m: "
     ]
    }
   ],
   "source": [
    "import time\n",
    "\n",
    "x_0 = np.random.rand(agent_num, d)\n",
    "\n",
    "#first is gradient Descent\n",
    "iter_num = 1000000\n",
    "lr = 1\n",
    "time_int = 0.01\n",
    "\n",
    "x_k = np.zeros((agent_num,d))\n",
    "x_k1 = np.zeros((agent_num,d))\n",
    "\n",
    "z_k = np.zeros((agent_num,d))\n",
    "z_k1 = np.zeros((agent_num,d))\n",
    "# x_k2 = np.zeros((agent_num,d))\n",
    "y_k = np.zeros((agent_num,d))\n",
    "y_k1 = np.zeros((agent_num,d))\n",
    "# y_k2 = np.zeros((agent_num,d))\n",
    "# x_accumulate = np.zeros((agent_num,d))\n",
    "# y_accumulate = np.zeros((agent_num,d))\n",
    "\n",
    "\n",
    "# z = np.zeros(d)\n",
    "# loss_z = np.zeros((iter_num))\n",
    "loss_x_global = np.zeros((agent_num, iter_num))\n",
    "# accu_x_record = np.zeros((iter_num))\n",
    "# accu_y_record = np.zeros((iter_num))\n",
    "x_record = np.zeros((iter_num))\n",
    "x_mean = np.zeros((iter_num))\n",
    "loss = np.zeros((agent_num, iter_num))\n",
    "\n",
    "# z = np.mean(x_0, axis = 0)\n",
    "# for i in  range(agent_num):\n",
    "\n",
    "#     x_k[i] = np.copy(x_0)\n",
    "x_k = np.copy(x_0)\n",
    "\n",
    "# \n",
    "# z_k =  np.copy(x_k)\n",
    "\n",
    "z_k =  np.log(x_k)+1\n",
    "# \n",
    "for k in tqdm(range( iter_num)):\n",
    "    for i in range(agent_num):\n",
    "\n",
    "        gradient_k1 = np.matmul(np.transpose(A[i]), (np.matmul(A[i], x_k[i,:])-b[i]))\n",
    "        y_k1[i,:] = y_k[i,:] + time_int*(x_k[(i+1)%agent_num,:]+x_k[(i-1)%agent_num,:] - 2*x_k[i,:])\n",
    "        z_k1[i,:] = z_k[i,:] - time_int*(lr*gradient_k1 - y_k[i,:] - (x_k[(i+1)%agent_num,:]+x_k[(i-1)%agent_num,:] - 2*x_k[i,:]))\n",
    "\n",
    "        error = np.matmul(A[i], x_k1[i,:])-b[i]\n",
    "        loss[i, k] = np.matmul(np.transpose(error), error)\n",
    "        \n",
    "#    change mirror method     \n",
    "    for i in range(agent_num):\n",
    "        x_k[i,:] = np.exp(z_k1[i,:])/np.exp(1)\n",
    "#         print(np.max(x_k[i,:]))\n",
    "#         x_k[i,:] = np.exp(z_k1[i,:])/sum(np.exp(z_k1[i,:]))\n",
    "#     \n",
    "    \n",
    "    z_k = np.copy(z_k1)\n",
    "    y_k = np.copy(y_k1)\n",
    "\n",
    "#     z = np.mean(x_k, axis = 0)\n",
    "#     print(z[0])\n",
    "#     for i in range(agent_num):\n",
    "#     error = np.matmul(A_stack, z)-b_stack\n",
    "#     loss_z[k] = np.matmul(np.transpose(error), error)\n",
    "    temp_sum = 0\n",
    "    x_bar = np.mean(x_k, axis=0)\n",
    "    for agent in range(agent_num):\n",
    "        temp_sum += np.linalg.norm(x_k[agent,:]-x_bar)\n",
    "    x_record[k] = temp_sum/agent_num\n",
    "    for i in range(agent_num):\n",
    "#         print(x_k[i,:])\n",
    "#         np.matmul(A_stack, )\n",
    "        error = np.matmul(A_stack, x_k[i,:])-b_stack\n",
    "        loss_x_global[i,k] = np.matmul(np.transpose(error), error)\n",
    "#         if((loss_x_global[i,k]-loss_star)< 0.01):\n",
    "#             print(\"reached\")\n",
    "#             reach=0\n",
    "#             time.sleep(3600)\n",
    "\n",
    "\n",
    "\n",
    "    "
   ]
  },
  {
   "cell_type": "code",
   "execution_count": 30,
   "metadata": {
    "jupyter": {
     "source_hidden": true
    }
   },
   "outputs": [
    {
     "data": {
      "application/vnd.jupyter.widget-view+json": {
       "model_id": "934849c7291443e49c60e0263afdd66a",
       "version_major": 2,
       "version_minor": 0
      },
      "text/plain": [
       "HBox(children=(FloatProgress(value=0.0, max=500000.0), HTML(value='')))"
      ]
     },
     "metadata": {},
     "output_type": "display_data"
    },
    {
     "name": "stdout",
     "output_type": "stream",
     "text": [
      "reached, iteration num:\n",
      "183224\n",
      "time_int: 0.019\n",
      "[10.6069722  10.19253331 11.40227549 11.97237216 10.00932429  9.87165869\n",
      " 11.69584584 10.81138986 10.99289059 10.69548005  9.55955815 10.97612689\n",
      "  9.91730201  9.25233031  8.71886237  9.38970674  9.0757591  10.18604115\n",
      "  9.10298737  8.95472892 11.92448726  9.41827761 11.04054938  8.7878703\n",
      "  9.91518656 10.47380094  8.57666555 10.861291   10.26679674  8.34994341\n",
      " 10.60295831 12.11529342  9.98924989 11.1878346  10.00441285  9.9150261\n",
      " 10.91021512  8.72795802  7.95853602 11.47948145 11.44486785 11.59969955\n",
      " 10.30266144  9.38341308  8.23335799  9.57114227 10.2075462  11.80185187\n",
      "  9.67488512  8.66570027 10.50439858  9.37431742  9.5526845  11.98197384\n",
      " 11.14580238 11.92849542  9.04585017  9.73882733 10.24046001 11.61740398\n",
      " 10.78887329 11.20278819 10.19144979  9.57030351 10.71582222 11.1898164\n",
      " 10.30512827 11.0776385  10.157191    9.84361596 10.18198839 13.30650858\n",
      " 10.59463786 12.10595129  7.45875175 12.3668289  10.44965752 10.76812857\n",
      " 10.94225937  9.56289754 10.80742446 12.19628533 12.82665225 10.25252205\n",
      " 10.05581703  8.73545805 10.89390578 10.7821526  10.48761948 10.35272605\n",
      " 10.90458906 11.80125498 10.89774787 10.27154472 10.0894941   8.52360996\n",
      " 10.302114   11.17225108 10.4509686  10.25846667]\n",
      "\n"
     ]
    }
   ],
   "source": [
    "import time\n",
    "\n",
    "x_0 = np.random.rand(agent_num, d)\n",
    "\n",
    "#M Descent\n",
    "iter_num = 500000\n",
    "lr = 1\n",
    "\n",
    "time_ints = np.array([0.019])\n",
    "# best is 0.019\n",
    "# time_ints = np.array([0.5,0.6,0.7,0.8,0.9,1])\n",
    "improvement = np.zeros(9)\n",
    "\n",
    "for j, time_int in enumerate(time_ints):\n",
    "    reach=0\n",
    "    x_k = np.zeros((agent_num,d))\n",
    "    x_k1 = np.zeros((agent_num,d))\n",
    "\n",
    "    z_k = np.zeros((agent_num,d))\n",
    "    z_k1 = np.zeros((agent_num,d))\n",
    "    # x_k2 = np.zeros((agent_num,d))\n",
    "    y_k = np.zeros((agent_num,d))\n",
    "    y_k1 = np.zeros((agent_num,d))\n",
    "    # y_k2 = np.zeros((agent_num,d))\n",
    "    # x_accumulate = np.zeros((agent_num,d))\n",
    "    # y_accumulate = np.zeros((agent_num,d))\n",
    "\n",
    "\n",
    "    # z = np.zeros(d)\n",
    "    # loss_z = np.zeros((iter_num))\n",
    "    loss_x_global = np.zeros((agent_num, iter_num))\n",
    "    # accu_x_record = np.zeros((iter_num))\n",
    "    # accu_y_record = np.zeros((iter_num))\n",
    "    x_record = np.zeros((iter_num))\n",
    "    x_mean = np.zeros((iter_num))\n",
    "    loss = np.zeros((agent_num, iter_num))\n",
    "\n",
    "    # z = np.mean(x_0, axis = 0)\n",
    "    # for i in  range(agent_num):\n",
    "\n",
    "    #     x_k[i] = np.copy(x_0)\n",
    "    x_k = np.copy(x_0)\n",
    "\n",
    "    # \n",
    "    # z_k =  np.copy(x_k)\n",
    "\n",
    "    z_k =  np.log(x_k)+1\n",
    "    # \n",
    "    for k in tqdm(range( iter_num)):\n",
    "        for i in range(agent_num):\n",
    "\n",
    "            gradient_k1 = np.matmul(np.transpose(A[i]), (np.matmul(A[i], x_k[i,:])-b[i]))\n",
    "            y_k1[i,:] = y_k[i,:] + time_int*(x_k[(i+1)%agent_num,:]+x_k[(i-1)%agent_num,:] - 2*x_k[i,:])\n",
    "            z_k1[i,:] = z_k[i,:] - time_int*(lr*gradient_k1 - y_k[i,:] - (x_k[(i+1)%agent_num,:]+x_k[(i-1)%agent_num,:] - 2*x_k[i,:]))\n",
    "\n",
    "#             error = np.matmul(A[i], x_k1[i,:])-b[i]\n",
    "#             loss_GD[i, k] = np.matmul(np.transpose(error), error)\n",
    "\n",
    "    #    change mirror method     \n",
    "        for i in range(agent_num):\n",
    "            x_k[i,:] = np.exp(z_k1[i,:])/np.exp(1)    #         print(np.max(x_k[i,:]))\n",
    "    #         x_k[i,:] = np.exp(z_k1[i,:])/sum(np.exp(z_k1[i,:]))\n",
    "    #     \n",
    "\n",
    "        z_k = np.copy(z_k1)\n",
    "        y_k = np.copy(y_k1)\n",
    "\n",
    "    #     z = np.mean(x_k, axis = 0)\n",
    "    #     print(z[0])\n",
    "    #     for i in range(agent_num):\n",
    "    #     error = np.matmul(A_stack, z)-b_stack\n",
    "    #     loss_z[k] = np.matmul(np.transpose(error), error)\n",
    "        temp_sum = 0\n",
    "        x_bar = np.mean(x_k, axis=0)\n",
    "        for agent in range(agent_num):\n",
    "            temp_sum += np.linalg.norm(x_k[agent,:]-x_bar)\n",
    "        x_record[k] = temp_sum/agent_num\n",
    "        for i in range(agent_num):\n",
    "    #         print(x_k[i,:])\n",
    "    #         np.matmul(A_stack, )\n",
    "            error = np.matmul(A_stack, x_k[i,:])-b_stack\n",
    "            loss_x_global[i,k] = np.matmul(np.transpose(error), error)\n",
    "            if((loss_x_global[i,k]-loss_star)< 1e-30):\n",
    "                print(\"reached, iteration num:\")\n",
    "                print(k)\n",
    "                print(\"time_int:\", time_int)\n",
    "                reach=1\n",
    "                improvement[j] = k\n",
    "                print(x_k[i,:])\n",
    "                break\n",
    "    #             time.sleep(3600)\n",
    "        if reach==1:\n",
    "            break\n",
    "#     improvement[j] = np.log(loss_x_global_GD[0,500000-1]) - np.log(loss_x_global_GD[0,400000])\n"
   ]
  },
  {
   "cell_type": "code",
   "execution_count": 74,
   "metadata": {},
   "outputs": [
    {
     "data": {
      "application/vnd.jupyter.widget-view+json": {
       "model_id": "d9ef38a7d80b4ea991754574504f762a",
       "version_major": 2,
       "version_minor": 0
      },
      "text/plain": [
       "HBox(children=(FloatProgress(value=0.0, max=500000.0), HTML(value='')))"
      ]
     },
     "metadata": {},
     "output_type": "display_data"
    },
    {
     "name": "stdout",
     "output_type": "stream",
     "text": [
      "reached, iteration num:\n",
      "357546\n",
      "time_int: 2\n",
      "[10.60697227 10.19253323 11.40227546 11.97237212 10.00932437  9.87165873\n",
      " 11.69584583 10.81138991 10.9928906  10.69548003  9.55955806 10.97612685\n",
      "  9.91730194  9.25233027  8.71886244  9.38970681  9.07575898 10.18604115\n",
      "  9.10298744  8.95472895 11.92448728  9.41827761 11.04054935  8.78787023\n",
      "  9.91518657 10.473801    8.57666558 10.86129102 10.26679672  8.34994342\n",
      " 10.60295836 12.11529337  9.98924992 11.18783459 10.0044129   9.91502607\n",
      " 10.91021521  8.72795805  7.95853598 11.47948153 11.44486784 11.59969955\n",
      " 10.30266149  9.383413    8.23335785  9.57114227 10.20754617 11.8018519\n",
      "  9.67488516  8.6657002  10.50439861  9.37431741  9.55268445 11.98197381\n",
      " 11.1458024  11.92849546  9.04585009  9.73882716 10.24045997 11.61740404\n",
      " 10.78887328 11.20278817 10.19144983  9.57030348 10.71582222 11.1898164\n",
      " 10.30512833 11.07763849 10.15719107  9.84361602 10.18198841 13.30650864\n",
      " 10.59463794 12.10595128  7.4587517  12.3668289  10.44965753 10.76812856\n",
      " 10.94225939  9.56289755 10.80742443 12.19628537 12.82665233 10.25252211\n",
      " 10.05581712  8.73545797 10.89390586 10.78215255 10.4876194  10.352726\n",
      " 10.90458905 11.801255   10.89774791 10.27154482 10.08949418  8.52361\n",
      " 10.30211394 11.17225099 10.45096858 10.2584667 ]\n",
      "\n"
     ]
    }
   ],
   "source": [
    "import time\n",
    "# change to reverse DGF\n",
    "# x_0 = np.random.rand(agent_num, d)\n",
    "x_0 = np.ones((agent_num, d))\n",
    "\n",
    "#M Descent\n",
    "iter_num = 500000\n",
    "lr = 1000\n",
    "\n",
    "time_ints = np.array([0.1,0.2,0.5,1,2,5,10,20])\n",
    "time_ints = np.array([2])\n",
    "# best is 0.016\n",
    "# time_ints = np.array([0.5,0.6,0.7,0.8,0.9,1])\n",
    "improvement = np.zeros(9)\n",
    "\n",
    "for j, time_int in enumerate(time_ints):\n",
    "    reach=0\n",
    "    x_k = np.zeros((agent_num,d))\n",
    "    x_k1 = np.zeros((agent_num,d))\n",
    "\n",
    "    z_k = np.zeros((agent_num,d))\n",
    "    z_k1 = np.zeros((agent_num,d))\n",
    "    # x_k2 = np.zeros((agent_num,d))\n",
    "    y_k = np.zeros((agent_num,d))\n",
    "    y_k1 = np.zeros((agent_num,d))\n",
    "    # y_k2 = np.zeros((agent_num,d))\n",
    "    # x_accumulate = np.zeros((agent_num,d))\n",
    "    # y_accumulate = np.zeros((agent_num,d))\n",
    "\n",
    "\n",
    "    # z = np.zeros(d)\n",
    "    # loss_z = np.zeros((iter_num))\n",
    "    loss_x_global_MD_z = np.zeros((agent_num, iter_num))\n",
    "    # accu_x_record = np.zeros((iter_num))\n",
    "    # accu_y_record = np.zeros((iter_num))\n",
    "    x_record = np.zeros((iter_num))\n",
    "    x_mean = np.zeros((iter_num))\n",
    "    loss_MD_z = np.zeros((agent_num, iter_num))\n",
    "\n",
    "    # z = np.mean(x_0, axis = 0)\n",
    "    # for i in  range(agent_num):\n",
    "\n",
    "    #     x_k[i] = np.copy(x_0)\n",
    "    x_k = np.copy(x_0)\n",
    "\n",
    "    # \n",
    "    # z_k =  np.copy(x_k)\n",
    "\n",
    "#     z_k =  np.log(x_k)+1\n",
    "    z_k =  np.exp(x_k)/np.exp(1)\n",
    "    # \n",
    "    for k in tqdm(range( iter_num)):\n",
    "        for i in range(agent_num):\n",
    "\n",
    "            gradient_k1 = np.matmul(np.transpose(A[i]), (np.matmul(A[i], x_k[i,:])-b[i]))\n",
    "            y_k1[i,:] = y_k[i,:] + time_int*(x_k[(i+1)%agent_num,:]+x_k[(i-1)%agent_num,:] - 2*x_k[i,:])\n",
    "            temp = time_int*(lr*gradient_k1 - y_k[i,:] - (x_k[(i+1)%agent_num,:]+x_k[(i-1)%agent_num,:] - 2*x_k[i,:]))\n",
    "#             print(temp.shape)\n",
    "#             print(z_k[i,:].shape)\n",
    "            z_k1[i,:] = np.abs(z_k[i,:] - temp)\n",
    "\n",
    "#             error = np.matmul(A[i], x_k1[i,:])-b[i]\n",
    "#             loss_GD[i, k] = np.matmul(np.transpose(error), error)\n",
    "\n",
    "    #    change mirror method     \n",
    "        for i in range(agent_num):\n",
    "#             x_k[i,:] = np.exp(z_k1[i,:])/np.exp(1)    #         print(np.max(x_k[i,:]))\n",
    "            x_k[i,:] = np.log(z_k1[i,:])+1   #         print(np.max(x_k[i,:]))\n",
    "    #         x_k[i,:] = np.exp(z_k1[i,:])/sum(np.exp(z_k1[i,:]))\n",
    "    #     \n",
    "\n",
    "        z_k = np.copy(z_k1)\n",
    "        y_k = np.copy(y_k1)\n",
    "\n",
    "    #     z = np.mean(x_k, axis = 0)\n",
    "    #     print(z[0])\n",
    "    #     for i in range(agent_num):\n",
    "    #     error = np.matmul(A_stack, z)-b_stack\n",
    "    #     loss_z[k] = np.matmul(np.transpose(error), error)\n",
    "        temp_sum = 0\n",
    "        x_bar = np.mean(x_k, axis=0)\n",
    "        for agent in range(agent_num):\n",
    "            temp_sum += np.linalg.norm(x_k[agent,:]-x_bar)\n",
    "        x_record[k] = temp_sum/agent_num\n",
    "        for i in range(agent_num):\n",
    "    #         print(x_k[i,:])\n",
    "    #         np.matmul(A_stack, )\n",
    "            error = np.matmul(A_stack, x_k[i,:])-b_stack\n",
    "            loss_x_global_MD_z[i,k] = np.matmul(np.transpose(error), error)\n",
    "            if((loss_x_global_MD_z[i,k]-loss_star)< 1e-30):\n",
    "                print(\"reached, iteration num:\")\n",
    "                print(k)\n",
    "                print(\"time_int:\", time_int)\n",
    "                reach=1\n",
    "                improvement[j] = k\n",
    "                print(x_k[i,:])\n",
    "                break\n",
    "    #             time.sleep(3600)\n",
    "        if reach==1:\n",
    "            break\n",
    "#     improvement[j] = np.log(loss_x_global_GD[0,500000-1]) - np.log(loss_x_global_GD[0,400000])\n"
   ]
  },
  {
   "cell_type": "code",
   "execution_count": 31,
   "metadata": {
    "jupyter": {
     "source_hidden": true
    }
   },
   "outputs": [
    {
     "data": {
      "application/vnd.jupyter.widget-view+json": {
       "model_id": "946f48ef153b499d84ae22d4efdc2610",
       "version_major": 2,
       "version_minor": 0
      },
      "text/plain": [
       "HBox(children=(FloatProgress(value=0.0, max=500000.0), HTML(value='')))"
      ]
     },
     "metadata": {},
     "output_type": "display_data"
    },
    {
     "name": "stdout",
     "output_type": "stream",
     "text": [
      "reached, iteration num:\n",
      "54864\n",
      "time_int: 0.6\n",
      "[10.60697221 10.1925333  11.40227549 11.97237216 10.00932429  9.8716587\n",
      " 11.69584584 10.81138984 10.99289059 10.69548003  9.55955814 10.97612687\n",
      "  9.91730202  9.2523303   8.71886239  9.38970674  9.0757591  10.18604114\n",
      "  9.10298739  8.95472893 11.92448725  9.41827762 11.04054939  8.78787029\n",
      "  9.91518656 10.47380095  8.57666556 10.86129101 10.26679673  8.34994342\n",
      " 10.60295831 12.11529341  9.9892499  11.1878346  10.00441285  9.9150261\n",
      " 10.91021512  8.72795803  7.95853602 11.47948144 11.44486785 11.59969955\n",
      " 10.30266144  9.38341307  8.23335798  9.57114228 10.2075462  11.80185187\n",
      "  9.67488513  8.66570026 10.50439859  9.37431743  9.5526845  11.98197385\n",
      " 11.14580238 11.92849543  9.04585017  9.73882732 10.24046    11.61740399\n",
      " 10.78887329 11.20278819 10.19144979  9.5703035  10.71582222 11.1898164\n",
      " 10.30512828 11.07763851 10.15719101  9.84361597 10.1819884  13.30650859\n",
      " 10.59463786 12.10595129  7.45875174 12.36682891 10.44965752 10.76812857\n",
      " 10.94225937  9.56289755 10.80742444 12.19628532 12.82665227 10.25252205\n",
      " 10.05581703  8.73545804 10.89390578 10.78215259 10.48761947 10.35272605\n",
      " 10.90458906 11.80125499 10.89774788 10.27154473 10.0894941   8.52360997\n",
      " 10.30211401 11.17225106 10.4509686  10.25846668]\n",
      "\n"
     ]
    }
   ],
   "source": [
    "import time\n",
    "\n",
    "x_0 = np.random.rand(agent_num, d)\n",
    "\n",
    "#first is gradient Descent\n",
    "iter_num = 500000\n",
    "lr = 1\n",
    "\n",
    "# time_ints = np.array([0.01,0.02,0.05,0.1,0.2,0.5,1,2,5])\n",
    "# best is 0.6\n",
    "time_ints = np.array([0.6])\n",
    "improvement = np.zeros(9)\n",
    "\n",
    "for j, time_int in enumerate(time_ints):\n",
    "    reach=0\n",
    "    x_k = np.zeros((agent_num,d))\n",
    "    x_k1 = np.zeros((agent_num,d))\n",
    "\n",
    "    z_k = np.zeros((agent_num,d))\n",
    "    z_k1 = np.zeros((agent_num,d))\n",
    "    # x_k2 = np.zeros((agent_num,d))\n",
    "    y_k = np.zeros((agent_num,d))\n",
    "    y_k1 = np.zeros((agent_num,d))\n",
    "    # y_k2 = np.zeros((agent_num,d))\n",
    "    # x_accumulate = np.zeros((agent_num,d))\n",
    "    # y_accumulate = np.zeros((agent_num,d))\n",
    "\n",
    "\n",
    "    # z = np.zeros(d)\n",
    "    # loss_z = np.zeros((iter_num))\n",
    "    loss_x_global_GD = np.zeros((agent_num, iter_num))\n",
    "    # accu_x_record = np.zeros((iter_num))\n",
    "    # accu_y_record = np.zeros((iter_num))\n",
    "    x_record = np.zeros((iter_num))\n",
    "    x_mean = np.zeros((iter_num))\n",
    "    loss_GD = np.zeros((agent_num, iter_num))\n",
    "\n",
    "    # z = np.mean(x_0, axis = 0)\n",
    "    # for i in  range(agent_num):\n",
    "\n",
    "    #     x_k[i] = np.copy(x_0)\n",
    "    x_k = np.copy(x_0)\n",
    "\n",
    "    # \n",
    "    # z_k =  np.copy(x_k)\n",
    "\n",
    "    z_k =  np.copy(x_0)\n",
    "    # \n",
    "    for k in tqdm(range( iter_num)):\n",
    "        for i in range(agent_num):\n",
    "\n",
    "            gradient_k1 = np.matmul(np.transpose(A[i]), (np.matmul(A[i], x_k[i,:])-b[i]))\n",
    "            y_k1[i,:] = y_k[i,:] + time_int*(x_k[(i+1)%agent_num,:]+x_k[(i-1)%agent_num,:] - 2*x_k[i,:])\n",
    "            z_k1[i,:] = z_k[i,:] - time_int*(lr*gradient_k1 - y_k[i,:] - (x_k[(i+1)%agent_num,:]+x_k[(i-1)%agent_num,:] - 2*x_k[i,:]))\n",
    "\n",
    "#             error = np.matmul(A[i], x_k1[i,:])-b[i]\n",
    "#             loss_GD[i, k] = np.matmul(np.transpose(error), error)\n",
    "\n",
    "    #    change mirror method     \n",
    "        for i in range(agent_num):\n",
    "            x_k[i,:] = np.copy(z_k1[i,:])\n",
    "    #         print(np.max(x_k[i,:]))\n",
    "    #         x_k[i,:] = np.exp(z_k1[i,:])/sum(np.exp(z_k1[i,:]))\n",
    "    #     \n",
    "\n",
    "        z_k = np.copy(z_k1)\n",
    "        y_k = np.copy(y_k1)\n",
    "\n",
    "    #     z = np.mean(x_k, axis = 0)\n",
    "    #     print(z[0])\n",
    "    #     for i in range(agent_num):\n",
    "    #     error = np.matmul(A_stack, z)-b_stack\n",
    "    #     loss_z[k] = np.matmul(np.transpose(error), error)\n",
    "        temp_sum = 0\n",
    "        x_bar = np.mean(x_k, axis=0)\n",
    "        for agent in range(agent_num):\n",
    "            temp_sum += np.linalg.norm(x_k[agent,:]-x_bar)\n",
    "        x_record[k] = temp_sum/agent_num\n",
    "        for i in range(agent_num):\n",
    "    #         print(x_k[i,:])\n",
    "    #         np.matmul(A_stack, )\n",
    "            error = np.matmul(A_stack, x_k[i,:])-b_stack\n",
    "            loss_x_global_GD[i,k] = np.matmul(np.transpose(error), error)\n",
    "            if((loss_x_global_GD[i,k]-loss_star)< 1e-30):\n",
    "                print(\"reached, iteration num:\")\n",
    "                print(k)\n",
    "                print(\"time_int:\", time_int)\n",
    "                reach=1\n",
    "                improvement[j] = k\n",
    "                print(x_k[i,:])\n",
    "                break\n",
    "    #             time.sleep(3600)\n",
    "        if reach==1:\n",
    "            break\n",
    "#     improvement[j] = np.log(loss_x_global_GD[0,500000-1]) - np.log(loss_x_global_GD[0,400000])\n"
   ]
  },
  {
   "cell_type": "code",
   "execution_count": 14,
   "metadata": {},
   "outputs": [
    {
     "name": "stdout",
     "output_type": "stream",
     "text": [
      "[-2.80498991e-03 -8.16315920e-05 -1.07435300e-09 -8.32667268e-16\n",
      " -1.38777878e-16 -6.60582700e-15  0.00000000e+00  0.00000000e+00\n",
      "  0.00000000e+00]\n"
     ]
    }
   ],
   "source": [
    "print(improvement)\n"
   ]
  },
  {
   "cell_type": "code",
   "execution_count": 15,
   "metadata": {},
   "outputs": [
    {
     "name": "stdout",
     "output_type": "stream",
     "text": [
      "-0.21401830580999973\n"
     ]
    }
   ],
   "source": [
    "print(np.log(loss_x_global_GD[0,500000-1]))\n",
    "\n",
    "    "
   ]
  },
  {
   "cell_type": "code",
   "execution_count": 1,
   "metadata": {
    "jupyter": {
     "source_hidden": true
    }
   },
   "outputs": [],
   "source": [
    "# # This is comparison in GD\n",
    "\n",
    "# import time\n",
    "\n",
    "# x_0 = np.random.rand(agent_num, d)\n",
    "\n",
    "# #first is gradient Descent\n",
    "# iter_num = 1000000\n",
    "# lr = 1\n",
    "# time_int = 0.01\n",
    "\n",
    "# x_k = np.zeros((agent_num,d))\n",
    "# x_k1 = np.zeros((agent_num,d))\n",
    "\n",
    "# z_k = np.zeros((agent_num,d))\n",
    "# z_k1 = np.zeros((agent_num,d))\n",
    "# # x_k2 = np.zeros((agent_num,d))\n",
    "# y_k = np.zeros((agent_num,d))\n",
    "# y_k1 = np.zeros((agent_num,d))\n",
    "# # y_k2 = np.zeros((agent_num,d))\n",
    "# # x_accumulate = np.zeros((agent_num,d))\n",
    "# # y_accumulate = np.zeros((agent_num,d))\n",
    "\n",
    "\n",
    "# # z = np.zeros(d)\n",
    "# # loss_z = np.zeros((iter_num))\n",
    "# loss_x_global_GD = np.zeros((agent_num, iter_num))\n",
    "# # accu_x_record = np.zeros((iter_num))\n",
    "# # accu_y_record = np.zeros((iter_num))\n",
    "# x_record = np.zeros((iter_num))\n",
    "# x_mean = np.zeros((iter_num))\n",
    "# loss_GD = np.zeros((agent_num, iter_num))\n",
    "\n",
    "# # z = np.mean(x_0, axis = 0)\n",
    "# # for i in  range(agent_num):\n",
    "\n",
    "# #     x_k[i] = np.copy(x_0)\n",
    "# x_k = np.copy(x_0)\n",
    "\n",
    "# # \n",
    "# # z_k =  np.copy(x_k)\n",
    "\n",
    "# # z_k =  np.log(x_k)+1\n",
    "# # \n",
    "# for k in tqdm(range( iter_num)):\n",
    "#     for i in range(agent_num):\n",
    "\n",
    "#         gradient_k1 = np.matmul(np.transpose(A[i]), (np.matmul(A[i], x_k[i,:])-b[i]))\n",
    "#         y_k1[i,:] = y_k[i,:] + time_int*(x_k[(i+1)%agent_num,:]+x_k[(i-1)%agent_num,:] - 2*x_k[i,:])\n",
    "# #         x_k1[i,:] = x_k[i,:] - time_int*(lr*gradient_k1 )\n",
    "#         x_k1[i,:] = x_k[i,:] - time_int*(lr*gradient_k1 - y_k[i,:] - (x_k[(i+1)%agent_num,:]+x_k[(i-1)%agent_num,:] - 2*x_k[i,:]))\n",
    "#         error = np.matmul(A[i], x_k1[i,:])-b[i]\n",
    "#         loss_GD[i, k] = np.matmul(np.transpose(error), error)\n",
    "        \n",
    "# #    change mirror method     \n",
    "# #     for i in range(agent_num):\n",
    "# #         x_k[i,:] = np.exp(z_k1[i,:])/np.exp(1)\n",
    "# #         print(np.max(x_k[i,:]))\n",
    "# #         x_k[i,:] = np.exp(z_k1[i,:])/sum(np.exp(z_k1[i,:]))\n",
    "# #     \n",
    "    \n",
    "#     x_k = np.copy(x_k1)\n",
    "#     y_k = np.copy(y_k1)\n",
    "\n",
    "# #     z = np.mean(x_k, axis = 0)\n",
    "# #     print(z[0])\n",
    "# #     for i in range(agent_num):\n",
    "# #     error = np.matmul(A_stack, z)-b_stack\n",
    "# #     loss_z[k] = np.matmul(np.transpose(error), error)\n",
    "#     temp_sum = 0\n",
    "#     x_bar = np.mean(x_k, axis=0)\n",
    "#     for agent in range(agent_num):\n",
    "#         temp_sum += np.linalg.norm(x_k[agent,:]-x_bar)\n",
    "#     x_record[k] = temp_sum/agent_num\n",
    "#     for i in range(agent_num):\n",
    "# #         print(x_k[i,:])\n",
    "# #         np.matmul(A_stack, )\n",
    "#         error = np.matmul(A_stack, x_k[i,:])-b_stack\n",
    "#         loss_x_global_GD[i,k] = np.matmul(np.transpose(error), error)\n",
    "# #         if((loss_x_global[i,k]-loss_star)< 0.01):\n",
    "# #             print(\"reached\")\n",
    "# #             reach=0\n",
    "# #             time.sleep(3600)\n",
    "\n",
    "\n",
    "\n",
    "    "
   ]
  },
  {
   "cell_type": "code",
   "execution_count": 67,
   "metadata": {},
   "outputs": [
    {
     "data": {
      "text/plain": [
       "<matplotlib.legend.Legend at 0x7fb132e3b208>"
      ]
     },
     "execution_count": 67,
     "metadata": {},
     "output_type": "execute_result"
    },
    {
     "data": {
      "image/png": "[encoded data removed]",
      "text/plain": [
       "<Figure size 432x288 with 1 Axes>"
      ]
     },
     "metadata": {
      "needs_background": "light"
     },
     "output_type": "display_data"
    }
   ],
   "source": [
    "plt.plot(x_record, label='x value at agent 1')\n",
    "# plt.plot(x_mean, label='x value of global average')\n",
    "# plt.scatter(accu_x_record[1:])\n",
    "# plt.plot(gamma[1:20000])\n",
    "y_range = 0.5\n",
    "plt.ylim((-y_range,y_range))\n",
    "\n",
    "plt.xlabel('iteration (k)')\n",
    "plt.ylabel('$x - x^*$')\n",
    "# ax.annotate('', xy=(0.99, 0), ha='left', va='top', xycoords='axes fraction', fontsize=8)\n",
    "plt.title(\"Integral Feedback\")\n",
    "\n",
    "plt.legend(loc='upper right')\n",
    "\n",
    "# print(accu_x_record[-1])x_k[i,:]\n",
    "# plt.xlabel(\"x_tilde value\")\n",
    "# plt.savefig(\"consensus_proposed\")\n",
    "# print(gamma[100000])"
   ]
  },
  {
   "cell_type": "code",
   "execution_count": 23,
   "metadata": {},
   "outputs": [],
   "source": [
    "# plt.plot(x_record[1000000:])\n",
    "# plt.plot(gamma[1:20000])\n",
    "# plt.ylim((-5e10,5000000))\n",
    "# print(x_record[-1])\n",
    "# plt.xlabel(\"local x value\")\n",
    "\n",
    "# plt.savefig(\"non_accel_EXTRA x_record 5m_it over_k\")"
   ]
  },
  {
   "cell_type": "code",
   "execution_count": 75,
   "metadata": {},
   "outputs": [
    {
     "data": {
      "text/plain": [
       "[<matplotlib.lines.Line2D at 0x7fb132ec6e10>]"
      ]
     },
     "execution_count": 75,
     "metadata": {},
     "output_type": "execute_result"
    },
    {
     "data": {
      "image/png": "[encoded data removed]",
      "text/plain": [
       "<Figure size 432x288 with 1 Axes>"
      ]
     },
     "metadata": {
      "needs_background": "light"
     },
     "output_type": "display_data"
    }
   ],
   "source": [
    "# loss_z_k2 = (loss_z-loss_star)*range(iter_num)*range(iter_num)\n",
    "# loss_z_k1 = (loss_z-loss_star)*range(iter_num)\n",
    "plt.plot(loss_x_global_MD_z[0,:]-loss_star)\n",
    "# plt.ylim((-0.01,0.05))\n",
    "# print(loss_z_k2[1:].min())\n",
    "# print((loss_z*range(iter_num))[-1])\n",
    "# plt.xlabel(\"(loss-loss*)xk^2\")\n",
    "# plt.savefig(\"non_accel_EXTRA (loss-loss_star)k 5m_it over_k\")\n",
    "# loss_star_global\n",
    "# plt.savefig(\"100k_simplex_loss\")"
   ]
  },
  {
   "cell_type": "code",
   "execution_count": 76,
   "metadata": {},
   "outputs": [
    {
     "data": {
      "text/plain": [
       "Text(0, 0.5, '$log(loss - loss^*)$')"
      ]
     },
     "execution_count": 76,
     "metadata": {},
     "output_type": "execute_result"
    },
    {
     "data": {
      "image/png": "[encoded data removed]",
      "text/plain": [
       "<Figure size 432x288 with 1 Axes>"
      ]
     },
     "metadata": {
      "needs_background": "light"
     },
     "output_type": "display_data"
    }
   ],
   "source": [
    "# from matplotlib import rc\n",
    "# rc('font',**{'family':'sans-serif','sans-serif':['Helvetica']})\n",
    "# ## for Palatino and other serif fonts use:\n",
    "# #rc('font',**{'family':'serif','serif':['Palatino']})\n",
    "# rc('text', usetex=True)\n",
    "# plt.rc('text', usetex=True)\n",
    "# plt.rc('font', family='serif')\n",
    "for i in range(10):\n",
    "    \n",
    "#     loss_x_k2 = (loss_x_global[i,:]-loss_star)*range(iter_num)*range(iter_num)\n",
    "    loss_x = (loss_x_global_MD_z[i,:]-loss_star)\n",
    "#     loss_x_k2 = (loss_x_global[i,:])*range(iter_num)*range(iter_num)\n",
    "#     loss_x_k2 = (loss_x_global[i,:]-loss_star)*range(iter_num)\n",
    "    plt.plot(np.log(loss_x[1:]))\n",
    "# loss_x2_k2 = (loss[1,:]-loss_star)*range(iter_num)*range(iter_num)\n",
    "plt.xlabel('iteration (k)')\n",
    "plt.ylabel('$log(loss - loss^*)$')\n",
    "\n",
    "# plt.savefig(\"100k_simplex_log(local_loss-loss_star)\")\n",
    "\n",
    "# plt.plot(loss_x2_k2[1:])\n",
    "# plt.ylim((0,1))\n",
    "# print(loss_x_k2[1:].min())\n",
    "# print(loss_z*range(30000)[-1])\n",
    "# plt.xlabel(\"(loss-loss*)xk^2\")\n"
   ]
  },
  {
   "cell_type": "code",
   "execution_count": 77,
   "metadata": {},
   "outputs": [
    {
     "data": {
      "image/png": "[encoded data removed]",
      "text/plain": [
       "<Figure size 432x288 with 1 Axes>"
      ]
     },
     "metadata": {
      "needs_background": "light"
     },
     "output_type": "display_data"
    }
   ],
   "source": [
    "# from matplotlib import rc\n",
    "# rc('font',**{'family':'sans-serif','sans-serif':['Helvetica']})\n",
    "# ## for Palatino and other serif fonts use:\n",
    "# #rc('font',**{'family':'serif','serif':['Palatino']})\n",
    "# rc('text', usetex=True)\n",
    "# plt.rc('text', usetex=True)\n",
    "# plt.rc('font', family='serif')\n",
    "iter_range = 200000\n",
    "for i in range(1):\n",
    "    \n",
    "#     loss_x_k2 = (loss_x_global[i,:]-loss_star)*range(iter_num)*range(iter_num)\n",
    "    loss_x1 = (loss_x_global_GD[i,:]-loss_star)\n",
    "    loss_x = (loss_x_global[i,:]-loss_star)\n",
    "    loss_x_z = (loss_x_global_MD_z[i,:]-loss_star)\n",
    "    \n",
    "#     loss_x_k2 = (loss_x_global[i,:])*range(iter_num)*range(iter_num)\n",
    "#     loss_x_k2 = (loss_x_global[i,:]-loss_star)*range(iter_num)\n",
    "    plt.plot(np.log(loss_x1[1:iter_range]))\n",
    "#     plt.plot(np.log(loss_x[1:iter_range]))\n",
    "    plt.plot(np.log(loss_x_z[1:iter_range]))\n",
    "# loss_x2_k2 = (loss[1,:]-loss_star)*range(iter_num)*range(iter_num)\n",
    "plt.xlabel('iteration (k)')\n",
    "plt.ylabel('$log(loss - loss^*)$')\n",
    "\n",
    "# plt.savefig(\"100k_simplex_log(local_loss-loss_star)\")\n",
    "plt.savefig(\"comparison_between_GD_MD_and_modified_y\")\n",
    "\n",
    "# plt.plot(loss_x2_k2[1:])\n",
    "# plt.ylim((0,1))\n",
    "# print(loss_x_k2[1:].min())\n",
    "# print(loss_z*range(30000)[-1])\n",
    "# plt.xlabel(\"(loss-loss*)xk^2\")\n"
   ]
  },
  {
   "cell_type": "code",
   "execution_count": 35,
   "metadata": {},
   "outputs": [],
   "source": [
    "# np.save(\"100d_simplex_1m_loss\", loss_x_global)\n",
    "# np.save(\"100d_simplex_1m_loss_star\", loss_star)\n",
    "np.save(\"100d_simplex_1m_x_minus_bar\", x_record)\n",
    "# np.save(outfile, x)"
   ]
  },
  {
   "cell_type": "code",
   "execution_count": null,
   "metadata": {},
   "outputs": [],
   "source": []
  }
 ],
 "metadata": {
  "kernelspec": {
   "display_name": "Python 3",
   "language": "python",
   "name": "python3"
  },
  "language_info": {
   "codemirror_mode": {
    "name": "ipython",
    "version": 3
   },
   "file_extension": ".py",
   "mimetype": "text/x-python",
   "name": "python",
   "nbconvert_exporter": "python",
   "pygments_lexer": "ipython3",
   "version": "3.7.3"
  }
 },
 "nbformat": 4,
 "nbformat_minor": 4
}
