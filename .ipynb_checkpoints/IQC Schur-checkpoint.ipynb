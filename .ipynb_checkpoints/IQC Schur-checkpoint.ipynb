{
 "cells": [
  {
   "cell_type": "code",
   "execution_count": 1,
   "metadata": {},
   "outputs": [],
   "source": [
    "import numpy as np\n",
    "import cvxpy as cp\n",
    "import tqdm as tqdm\n",
    "import matplotlib.pyplot as plt\n"
   ]
  },
  {
   "cell_type": "code",
   "execution_count": 212,
   "metadata": {},
   "outputs": [
    {
     "name": "stdout",
     "output_type": "stream",
     "text": [
      "[[ 0.025  0.     0.   ]\n",
      " [ 0.     0.    -0.1  ]\n",
      " [ 0.    -0.1    0.01 ]]\n",
      "[[ 0.          0.          0.        ]\n",
      " [ 0.         -3.33333333  0.5       ]\n",
      " [ 0.          0.5        -0.06666667]]\n",
      "[[-0.2  0.5  0. ]\n",
      " [ 0.5 -1.2  0. ]\n",
      " [ 0.   0.   0. ]]\n"
     ]
    }
   ],
   "source": [
    "u_f = 5\n",
    "L_f = 10\n",
    "\n",
    "u_phi = 2\n",
    "L_phi = 3\n",
    "\n",
    "M_f = np.zeros((3,3))\n",
    "M_f[1,1]= -(u_f*L_f)/(u_f+L_f)\n",
    "M_f[1,2]= 1/2\n",
    "M_f[2,1]= 1/2\n",
    "M_f[2,2]= -(1)/(u_f+L_f)\n",
    "\n",
    "\n",
    "M_phi = np.zeros((3,3))\n",
    "M_phi[1,1]= -(u_phi*L_phi)/(u_phi+L_phi)\n",
    "M_phi[1,0]= 1/2\n",
    "M_phi[0,1]= 1/2\n",
    "M_phi[0,0]= -(1)/(u_phi+L_phi)\n",
    "\n",
    "eta = 0.2\n",
    "rho = 0.9\n",
    "M_0 = np.zeros((3,3))\n",
    "M_0[0,0]= (1-rho)/(2*u_phi)\n",
    "M_0[1,2]= -1/2*eta\n",
    "M_0[2,1]= -1/2*eta\n",
    "M_0[2,2]= (eta*eta)/(2*u_phi)\n",
    "\n",
    "print(M_0)\n",
    "print(M_f)\n",
    "print(M_phi)"
   ]
  },
  {
   "cell_type": "code",
   "execution_count": 213,
   "metadata": {},
   "outputs": [
    {
     "name": "stdout",
     "output_type": "stream",
     "text": [
      "The optimal value is 0.6666666639235953\n",
      "A solution is\n",
      "0.2999812989655609 2.500088666593804 0.6666666639235953\n",
      "False\n"
     ]
    }
   ],
   "source": [
    "sigma_f = cp.Variable()\n",
    "sigma_phi = cp.Variable()\n",
    "rho = cp.Variable()\n",
    "\n",
    "M_0_part_1 = np.zeros((3,3))\n",
    "M_0_part_2 = np.zeros((3,3))\n",
    "\n",
    "M_0_part_1[0,0]= (1)/(2*u_phi)\n",
    "M_0_part_1[1,2]= -1/2*eta\n",
    "M_0_part_1[2,1]= -1/2*eta\n",
    "M_0_part_1[2,2]= (eta*eta)/(2*u_phi)\n",
    "\n",
    "M_0_part_2[0,0] = -1/(2*u_phi)\n",
    "\n",
    "constraints = [sigma_f >= 0]\n",
    "constraints += [sigma_phi >= 0]\n",
    "constraints += [(M_0_part_1 + rho*M_0_part_2 + sigma_f*M_f + sigma_phi*M_phi) << 0]\n",
    "constraints += [rho >= 0]\n",
    "constraints += [rho <= 1]\n",
    "\n",
    "\n",
    "prob=cp.Problem(cp.Minimize(rho), constraints)\n",
    "# prob=cp.Problem(cp.Maximize(rho), constraints)\n",
    "prob.solve()\n",
    "\n",
    "\n",
    "print(\"The optimal value is\", prob.value)\n",
    "print(\"A solution is\")\n",
    "print(sigma_f.value, sigma_phi.value, rho.value)\n",
    "\n",
    "print(prob.value == 0)"
   ]
  },
  {
   "cell_type": "code",
   "execution_count": 254,
   "metadata": {},
   "outputs": [
    {
     "name": "stderr",
     "output_type": "stream",
     "text": [
      "1000it [00:12, 77.68it/s]\n",
      "8it [00:00, 75.56it/s]"
     ]
    },
    {
     "name": "stdout",
     "output_type": "stream",
     "text": [
      "current mu: 0.2\n",
      "best eta is: 0.026000000000000002\n"
     ]
    },
    {
     "name": "stderr",
     "output_type": "stream",
     "text": [
      "1000it [00:12, 78.87it/s]\n",
      "8it [00:00, 75.54it/s]"
     ]
    },
    {
     "name": "stdout",
     "output_type": "stream",
     "text": [
      "current mu: 0.48\n",
      "best eta is: 0.064\n"
     ]
    },
    {
     "name": "stderr",
     "output_type": "stream",
     "text": [
      "1000it [00:12, 78.85it/s]\n",
      "8it [00:00, 75.44it/s]"
     ]
    },
    {
     "name": "stdout",
     "output_type": "stream",
     "text": [
      "current mu: 0.76\n",
      "best eta is: 0.101\n"
     ]
    },
    {
     "name": "stderr",
     "output_type": "stream",
     "text": [
      "1000it [00:12, 78.12it/s]\n",
      "8it [00:00, 73.93it/s]"
     ]
    },
    {
     "name": "stdout",
     "output_type": "stream",
     "text": [
      "current mu: 1.0399999999999998\n",
      "best eta is: 0.138\n"
     ]
    },
    {
     "name": "stderr",
     "output_type": "stream",
     "text": [
      "1000it [00:12, 78.06it/s]\n",
      "8it [00:00, 71.10it/s]"
     ]
    },
    {
     "name": "stdout",
     "output_type": "stream",
     "text": [
      "current mu: 1.3199999999999998\n",
      "best eta is: 0.176\n"
     ]
    },
    {
     "name": "stderr",
     "output_type": "stream",
     "text": [
      "1000it [00:12, 77.79it/s]\n",
      "8it [00:00, 72.38it/s]"
     ]
    },
    {
     "name": "stdout",
     "output_type": "stream",
     "text": [
      "current mu: 1.5999999999999999\n",
      "best eta is: 0.213\n"
     ]
    },
    {
     "name": "stderr",
     "output_type": "stream",
     "text": [
      "1000it [00:12, 77.46it/s]\n",
      "8it [00:00, 74.37it/s]"
     ]
    },
    {
     "name": "stdout",
     "output_type": "stream",
     "text": [
      "current mu: 1.8799999999999997\n",
      "best eta is: 0.251\n"
     ]
    },
    {
     "name": "stderr",
     "output_type": "stream",
     "text": [
      "1000it [00:12, 77.46it/s]\n",
      "8it [00:00, 74.96it/s]"
     ]
    },
    {
     "name": "stdout",
     "output_type": "stream",
     "text": [
      "current mu: 2.1599999999999997\n",
      "best eta is: 0.28800000000000003\n"
     ]
    },
    {
     "name": "stderr",
     "output_type": "stream",
     "text": [
      "1000it [00:12, 77.20it/s]\n",
      "8it [00:00, 72.13it/s]"
     ]
    },
    {
     "name": "stdout",
     "output_type": "stream",
     "text": [
      "current mu: 2.44\n",
      "best eta is: 0.325\n"
     ]
    },
    {
     "name": "stderr",
     "output_type": "stream",
     "text": [
      "1000it [00:12, 77.10it/s]\n"
     ]
    },
    {
     "name": "stdout",
     "output_type": "stream",
     "text": [
      "current mu: 2.7199999999999998\n",
      "best eta is: 0.363\n"
     ]
    },
    {
     "data": {
      "image/png": "[encoded data removed]",
      "text/plain": [
       "<Figure size 432x288 with 1 Axes>"
      ]
     },
     "metadata": {
      "needs_background": "light"
     },
     "output_type": "display_data"
    }
   ],
   "source": [
    "# M_0_cp = cp.Parameter((3,3))\n",
    "# M_0_cp.value = M_0\n",
    "# sigma_f = cp.Variable()\n",
    "# sigma_phi = cp.Variable()\n",
    "# constraints = [sigma_f >= 0]\n",
    "# constraints += [sigma_phi >= 0]\n",
    "# constraints += [(M_0_cp + sigma_f*M_f + sigma_phi*M_phi) << 0]\n",
    "# prob=cp.Problem(cp.Minimize(0), constraints)\n",
    "u_f = 5\n",
    "L_f = 10\n",
    "\n",
    "u_phi = 1\n",
    "L_phi = 3\n",
    "u_phi_selection = np.linspace(0.2,L_phi,10,endpoint=False)\n",
    "best_eta = np.zeros(10)\n",
    "best_rho = np.zeros(10)\n",
    "biggest_eta = np.zeros(10)\n",
    "for k,u_phi in enumerate(u_phi_selection):\n",
    "    \n",
    "    resolution =1000\n",
    "    solvable =  np.zeros(resolution)\n",
    "    sigma_f_plot =  np.zeros(resolution)\n",
    "    sigma_phi_plot =  np.zeros(resolution)\n",
    "    etas = np.linspace(0,1,resolution,endpoint=False)\n",
    "    # rhos = np.linspace(0,1,resolution,endpoint=False)\n",
    "    for i, eta in tqdm.tqdm(enumerate(etas)):\n",
    "        M_0_part_1 = np.zeros((3,3))\n",
    "        M_0_part_2 = np.zeros((3,3))\n",
    "\n",
    "        M_0_part_1[0,0]= (1)/(2*u_phi)\n",
    "        M_0_part_1[1,2]= -1/2*eta\n",
    "        M_0_part_1[2,1]= -1/2*eta\n",
    "        M_0_part_1[2,2]= (eta*eta)/(2*u_phi)\n",
    "\n",
    "        M_0_part_2[0,0] = -1/(2*u_phi)\n",
    "\n",
    "        \n",
    "        M_phi = np.zeros((3,3))\n",
    "        M_phi[1,1]= -(u_phi*L_phi)/(u_phi+L_phi)\n",
    "        M_phi[1,0]= 1/2\n",
    "        M_phi[0,1]= 1/2\n",
    "        M_phi[0,0]= -(1)/(u_phi+L_phi)\n",
    "\n",
    "        sigma_f = cp.Variable()\n",
    "        sigma_phi = cp.Variable()\n",
    "        rho = cp.Variable()\n",
    "\n",
    "        constraints = [sigma_f >= 0]\n",
    "        constraints += [sigma_phi >= 0]\n",
    "        constraints += [sigma_phi <= 1e3]\n",
    "        constraints += [sigma_f <= 1e3]\n",
    "        constraints += [(M_0_part_1 + rho*M_0_part_2 + sigma_f*M_f + sigma_phi*M_phi) << 0]\n",
    "        constraints += [rho >= 0]\n",
    "        constraints += [rho <= 1]\n",
    "\n",
    "\n",
    "        prob=cp.Problem(cp.Minimize(rho), constraints)\n",
    "        # prob=cp.Problem(cp.Maximize(rho), constraints)\n",
    "        prob.solve(solver='MOSEK')\n",
    "    #     prob.solve(solver='MOSEK',verbose=True)\n",
    "\n",
    "    #     prob.solve()\n",
    "    #         print(\"The optimal value is\", prob.value)\n",
    "    #     if(np.isinf(prob.value)==False and prob.value < 1):\n",
    "        if prob.status in [\"infeasible\", \"unbounded\"]:\n",
    "    #         print(\"Optimal value: %s\" % problem.value)\n",
    "            solvable[i] = 1\n",
    "            sigma_f_plot[i] = 0\n",
    "            sigma_phi_plot[i] = 0\n",
    "        else:\n",
    "            solvable[i] = prob.value\n",
    "            sigma_f_plot[i] = sigma_f.value\n",
    "            sigma_phi_plot[i] = sigma_phi.value\n",
    "    #             print(\"this is solvable\", eta, rho)\n",
    "    #         else:\n",
    "#     to find min\n",
    "    index = np.argmin(solvable)\n",
    "    best_eta[k] = etas[index]\n",
    "    best_rho[k] = solvable[index]\n",
    "    \n",
    "#     to find cut off\n",
    "    for i in range(resolution):\n",
    "        if i>1 and solvable[i]==1:\n",
    "            biggest_eta[k] = etas[i-1]\n",
    "            break\n",
    "    print(\"current mu:\", u_phi)\n",
    "    print(\"best eta is:\", best_eta[k])\n",
    "    plt.plot(etas,solvable)\n",
    "\n",
    "#             solvable[i,j] = 0"
   ]
  },
  {
   "cell_type": "code",
   "execution_count": 250,
   "metadata": {},
   "outputs": [
    {
     "data": {
      "image/png": "[encoded data removed]",
      "text/plain": [
       "<Figure size 432x288 with 1 Axes>"
      ]
     },
     "metadata": {
      "needs_background": "light"
     },
     "output_type": "display_data"
    }
   ],
   "source": [
    "# find best rho and corresponding eta\n",
    "u_phi_lowest_l3 = u_phi_selection\n",
    "lowest_eta_l3 = best_eta\n",
    "lowest_rho_l3 = best_rho\n",
    "biggest_eta_l3 = biggest_eta\n",
    "plt.plot(u_phi_lowest_l3,biggest_eta_l3)\n",
    "plt.plot(u_phi_lowest_l2,biggest_eta_l2)\n",
    "plt.plot(u_phi_lowest_l1,biggest_eta_l1)\n",
    "# plt.plot(u_phi_lowest_l3,lowest_eta_l3)\n",
    "# plt.plot(u_phi_lowest_l2,lowest_eta_l2)\n",
    "# plt.plot(u_phi_lowest_l1,lowest_eta_l1)\n",
    "# plt.show()\n",
    "plt.legend( ('L=3','L=2','L=1'))\n",
    "plt.ylim(0,0.5)\n",
    "plt.xlim(0,3)\n",
    "\n",
    "plt.xlabel(\"biggest_eta_wrt_u_phi\")\n",
    "# plt.show()\n",
    "# plt.savefig(\"best_eta_wrt_u_phi\")\n",
    "plt.savefig(\"biggest_eta_wrt_u_phi\")"
   ]
  },
  {
   "cell_type": "code",
   "execution_count": 244,
   "metadata": {},
   "outputs": [
    {
     "data": {
      "image/png": "[encoded data removed]",
      "text/plain": [
       "<Figure size 432x288 with 1 Axes>"
      ]
     },
     "metadata": {
      "needs_background": "light"
     },
     "output_type": "display_data"
    }
   ],
   "source": [
    "# find best rho and corresponding eta\n",
    "# u_phi_lowest_l3 = u_phi_selection\n",
    "# lowest_eta_l3 = best_eta\n",
    "# lowest_rho_l3 = best_rho\n",
    "# plt.plot(u_phi_selection_l1,best_eta_l1)\n",
    "# plt.plot(u_phi_selection_l3,best_eta_l3)\n",
    "plt.plot(3/u_phi_lowest_l3,lowest_rho_l3)\n",
    "plt.plot(2/u_phi_lowest_l2,lowest_rho_l2)\n",
    "plt.plot(1/u_phi_lowest_l1,lowest_rho_l1)\n",
    "# plt.ylim(0,1.1)\n",
    "# plt.show()\n",
    "plt.legend( ('L=3','L=2','L=1'))\n",
    "\n",
    "plt.xlabel(\"best_rho_wrt_kappa\")\n",
    "# plt.show()\n",
    "plt.savefig(\"best_rho_wrt_kappa\")"
   ]
  },
  {
   "cell_type": "code",
   "execution_count": 200,
   "metadata": {},
   "outputs": [
    {
     "data": {
      "image/png": "[encoded data removed]",
      "text/plain": [
       "<Figure size 432x288 with 1 Axes>"
      ]
     },
     "metadata": {
      "needs_background": "light"
     },
     "output_type": "display_data"
    }
   ],
   "source": [
    "# find maximum eta\n",
    "u_phi_selection_l3 = u_phi_selection\n",
    "best_eta_l3 = best_eta\n",
    "plt.plot(u_phi_selection_l1,best_eta_l1)\n",
    "plt.plot(u_phi_selection_l3,best_eta_l3)\n",
    "\n",
    "plt.plot(u_phi_selection_l2,best_eta_l2)\n",
    "# plt.ylim(0,1.1)\n",
    "# plt.show()\n",
    "plt.legend( ('L=1','L=3', 'L=2'))\n",
    "\n",
    "plt.xlabel(\"best_eta_wrt_u_phi\")\n",
    "# plt.show()\n",
    "plt.savefig(\"best_eta_wrt_u_phi\")"
   ]
  },
  {
   "cell_type": "code",
   "execution_count": 215,
   "metadata": {},
   "outputs": [
    {
     "name": "stderr",
     "output_type": "stream",
     "text": [
      "1000it [00:13, 74.77it/s]\n"
     ]
    }
   ],
   "source": [
    "# M_0_cp = cp.Parameter((3,3))\n",
    "# M_0_cp.value = M_0\n",
    "# sigma_f = cp.Variable()\n",
    "# sigma_phi = cp.Variable()\n",
    "# constraints = [sigma_f >= 0]\n",
    "# constraints += [sigma_phi >= 0]\n",
    "# constraints += [(M_0_cp + sigma_f*M_f + sigma_phi*M_phi) << 0]\n",
    "# prob=cp.Problem(cp.Minimize(0), constraints)\n",
    "u_phi=2\n",
    "\n",
    "resolution =1000\n",
    "solvable =  np.zeros(resolution)\n",
    "etas = np.linspace(0,1,resolution,endpoint=False)\n",
    "# rhos = np.linspace(0,1,resolution,endpoint=False)\n",
    "for i, eta in tqdm.tqdm(enumerate(etas)):\n",
    "    M_0_part_1 = np.zeros((3,3))\n",
    "    M_0_part_2 = np.zeros((3,3))\n",
    "\n",
    "    M_0_part_1[0,0]= (1)/(2*u_phi)\n",
    "    M_0_part_1[1,2]= -1/2*eta\n",
    "    M_0_part_1[2,1]= -1/2*eta\n",
    "    M_0_part_1[2,2]= (eta*eta)/(2*u_phi)\n",
    "\n",
    "    M_0_part_2[0,0] = -1/(2*u_phi)\n",
    "    \n",
    "    M_phi = np.zeros((3,3))\n",
    "    M_phi[1,1]= -(u_phi*L_phi)/(u_phi+L_phi)\n",
    "    M_phi[1,0]= 1/2\n",
    "    M_phi[0,1]= 1/2\n",
    "    M_phi[0,0]= -(1)/(u_phi+L_phi)\n",
    "\n",
    "    sigma_f = cp.Variable()\n",
    "    sigma_phi = cp.Variable()\n",
    "    rho = cp.Variable()\n",
    "    \n",
    "    constraints = [sigma_f >= 0]\n",
    "    constraints += [sigma_phi >= 0]\n",
    "    constraints += [sigma_phi <= 1e3]\n",
    "    constraints += [sigma_f <= 1e3]\n",
    "    constraints += [(M_0_part_1 + rho*M_0_part_2 + sigma_f*M_f + sigma_phi*M_phi) << 0]\n",
    "    constraints += [rho >= 0]\n",
    "    constraints += [rho <= 1]\n",
    "\n",
    "\n",
    "    prob=cp.Problem(cp.Minimize(rho), constraints)\n",
    "    # prob=cp.Problem(cp.Maximize(rho), constraints)\n",
    "    prob.solve(solver='MOSEK')\n",
    "#     prob.solve(solver='MOSEK',verbose=True)\n",
    "    \n",
    "#     prob.solve()\n",
    "#         print(\"The optimal value is\", prob.value)\n",
    "#     if(np.isinf(prob.value)==False and prob.value < 1):\n",
    "    if prob.status in [\"infeasible\", \"unbounded\"]:\n",
    "#         print(\"Optimal value: %s\" % problem.value)\n",
    "        solvable[i] = 1\n",
    "    else:\n",
    "        solvable[i] = prob.value\n",
    "#             print(\"this is solvable\", eta, rho)\n",
    "#         else:\n",
    "#             solvable[i,j] = 0"
   ]
  },
  {
   "cell_type": "code",
   "execution_count": 172,
   "metadata": {
    "collapsed": true,
    "jupyter": {
     "outputs_hidden": true,
     "source_hidden": true
    }
   },
   "outputs": [
    {
     "ename": "DCPError",
     "evalue": "Problem does not follow DCP rules. Specifically:\nThe following constraints are not DCP:\n0.0 + -Promote(var3100662, (3, 3)) * [[5. 0. 0.]\n [0. 0. 0.]\n [0. 0. 0.]] + Promote(var3100663 * var3100663, (3, 3)) * [[0.  0.  0. ]\n [0.  0.  0. ]\n [0.  0.  0.2]] + Promote(var3100663, (3, 3)) * [[ 0.   0.   0. ]\n [ 0.   0.  -0.5]\n [ 0.  -0.5  0. ]] + [[-5.  0.  0.]\n [ 0.  0.  0.]\n [ 0.  0.  0.]] + Promote(var3100660, (3, 3)) * [[ 0.          0.          0.        ]\n [ 0.         -3.33333333  0.5       ]\n [ 0.          0.5        -0.06666667]] + Promote(var3100661, (3, 3)) * [[-5.    0.5   0.  ]\n [ 0.5  -0.05  0.  ]\n [ 0.    0.    0.  ]] >> 0 , because the following subexpressions are not:\n|--  var3100663 * var3100663",
     "output_type": "error",
     "traceback": [
      "\u001b[0;31m---------------------------------------------------------------------------\u001b[0m",
      "\u001b[0;31mDCPError\u001b[0m                                  Traceback (most recent call last)",
      "\u001b[0;32m<ipython-input-172-e4e5ad7ce7d8>\u001b[0m in \u001b[0;36m<module>\u001b[0;34m\u001b[0m\n\u001b[1;32m     52\u001b[0m \u001b[0mprob\u001b[0m\u001b[0;34m=\u001b[0m\u001b[0mcp\u001b[0m\u001b[0;34m.\u001b[0m\u001b[0mProblem\u001b[0m\u001b[0;34m(\u001b[0m\u001b[0mcp\u001b[0m\u001b[0;34m.\u001b[0m\u001b[0mMinimize\u001b[0m\u001b[0;34m(\u001b[0m\u001b[0mrho\u001b[0m\u001b[0;34m)\u001b[0m\u001b[0;34m,\u001b[0m \u001b[0mconstraints\u001b[0m\u001b[0;34m)\u001b[0m\u001b[0;34m\u001b[0m\u001b[0;34m\u001b[0m\u001b[0m\n\u001b[1;32m     53\u001b[0m \u001b[0;31m# prob=cp.Problem(cp.Maximize(rho), constraints)\u001b[0m\u001b[0;34m\u001b[0m\u001b[0;34m\u001b[0m\u001b[0;34m\u001b[0m\u001b[0m\n\u001b[0;32m---> 54\u001b[0;31m \u001b[0mprob\u001b[0m\u001b[0;34m.\u001b[0m\u001b[0msolve\u001b[0m\u001b[0;34m(\u001b[0m\u001b[0msolver\u001b[0m\u001b[0;34m=\u001b[0m\u001b[0;34m'MOSEK'\u001b[0m\u001b[0;34m)\u001b[0m\u001b[0;34m\u001b[0m\u001b[0;34m\u001b[0m\u001b[0m\n\u001b[0m\u001b[1;32m     55\u001b[0m \u001b[0;31m#     prob.solve(solver='MOSEK',verbose=True)\u001b[0m\u001b[0;34m\u001b[0m\u001b[0;34m\u001b[0m\u001b[0;34m\u001b[0m\u001b[0m\n\u001b[1;32m     56\u001b[0m \u001b[0;34m\u001b[0m\u001b[0m\n",
      "\u001b[0;32m~/anaconda3/lib/python3.7/site-packages/cvxpy/problems/problem.py\u001b[0m in \u001b[0;36msolve\u001b[0;34m(self, *args, **kwargs)\u001b[0m\n\u001b[1;32m    288\u001b[0m         \u001b[0;32melse\u001b[0m\u001b[0;34m:\u001b[0m\u001b[0;34m\u001b[0m\u001b[0;34m\u001b[0m\u001b[0m\n\u001b[1;32m    289\u001b[0m             \u001b[0msolve_func\u001b[0m \u001b[0;34m=\u001b[0m \u001b[0mProblem\u001b[0m\u001b[0;34m.\u001b[0m\u001b[0m_solve\u001b[0m\u001b[0;34m\u001b[0m\u001b[0;34m\u001b[0m\u001b[0m\n\u001b[0;32m--> 290\u001b[0;31m         \u001b[0;32mreturn\u001b[0m \u001b[0msolve_func\u001b[0m\u001b[0;34m(\u001b[0m\u001b[0mself\u001b[0m\u001b[0;34m,\u001b[0m \u001b[0;34m*\u001b[0m\u001b[0margs\u001b[0m\u001b[0;34m,\u001b[0m \u001b[0;34m**\u001b[0m\u001b[0mkwargs\u001b[0m\u001b[0;34m)\u001b[0m\u001b[0;34m\u001b[0m\u001b[0;34m\u001b[0m\u001b[0m\n\u001b[0m\u001b[1;32m    291\u001b[0m \u001b[0;34m\u001b[0m\u001b[0m\n\u001b[1;32m    292\u001b[0m     \u001b[0;34m@\u001b[0m\u001b[0mclassmethod\u001b[0m\u001b[0;34m\u001b[0m\u001b[0;34m\u001b[0m\u001b[0m\n",
      "\u001b[0;32m~/anaconda3/lib/python3.7/site-packages/cvxpy/problems/problem.py\u001b[0m in \u001b[0;36m_solve\u001b[0;34m(self, solver, warm_start, verbose, parallel, gp, qcp, **kwargs)\u001b[0m\n\u001b[1;32m    566\u001b[0m                     solver, warm_start, verbose, **kwargs)\n\u001b[1;32m    567\u001b[0m \u001b[0;34m\u001b[0m\u001b[0m\n\u001b[0;32m--> 568\u001b[0;31m         \u001b[0mself\u001b[0m\u001b[0;34m.\u001b[0m\u001b[0m_construct_chains\u001b[0m\u001b[0;34m(\u001b[0m\u001b[0msolver\u001b[0m\u001b[0;34m=\u001b[0m\u001b[0msolver\u001b[0m\u001b[0;34m,\u001b[0m \u001b[0mgp\u001b[0m\u001b[0;34m=\u001b[0m\u001b[0mgp\u001b[0m\u001b[0;34m)\u001b[0m\u001b[0;34m\u001b[0m\u001b[0;34m\u001b[0m\u001b[0m\n\u001b[0m\u001b[1;32m    569\u001b[0m         data, solving_inverse_data = self._solving_chain.apply(\n\u001b[1;32m    570\u001b[0m             self._intermediate_problem)\n",
      "\u001b[0;32m~/anaconda3/lib/python3.7/site-packages/cvxpy/problems/problem.py\u001b[0m in \u001b[0;36m_construct_chains\u001b[0;34m(self, solver, gp)\u001b[0m\n\u001b[1;32m    509\u001b[0m \u001b[0;34m\u001b[0m\u001b[0m\n\u001b[1;32m    510\u001b[0m             \u001b[0;32mexcept\u001b[0m \u001b[0mException\u001b[0m \u001b[0;32mas\u001b[0m \u001b[0me\u001b[0m\u001b[0;34m:\u001b[0m\u001b[0;34m\u001b[0m\u001b[0;34m\u001b[0m\u001b[0m\n\u001b[0;32m--> 511\u001b[0;31m                 \u001b[0;32mraise\u001b[0m \u001b[0me\u001b[0m\u001b[0;34m\u001b[0m\u001b[0;34m\u001b[0m\u001b[0m\n\u001b[0m\u001b[1;32m    512\u001b[0m \u001b[0;34m\u001b[0m\u001b[0m\n\u001b[1;32m    513\u001b[0m     def _solve(self,\n",
      "\u001b[0;32m~/anaconda3/lib/python3.7/site-packages/cvxpy/problems/problem.py\u001b[0m in \u001b[0;36m_construct_chains\u001b[0;34m(self, solver, gp)\u001b[0m\n\u001b[1;32m    498\u001b[0m \u001b[0;34m\u001b[0m\u001b[0m\n\u001b[1;32m    499\u001b[0m                 \u001b[0mself\u001b[0m\u001b[0;34m.\u001b[0m\u001b[0m_intermediate_chain\u001b[0m \u001b[0;34m=\u001b[0m\u001b[0;31m \u001b[0m\u001b[0;31m\\\u001b[0m\u001b[0;34m\u001b[0m\u001b[0;34m\u001b[0m\u001b[0m\n\u001b[0;32m--> 500\u001b[0;31m                     \u001b[0mconstruct_intermediate_chain\u001b[0m\u001b[0;34m(\u001b[0m\u001b[0mself\u001b[0m\u001b[0;34m,\u001b[0m \u001b[0mcandidate_solvers\u001b[0m\u001b[0;34m,\u001b[0m \u001b[0mgp\u001b[0m\u001b[0;34m=\u001b[0m\u001b[0mgp\u001b[0m\u001b[0;34m)\u001b[0m\u001b[0;34m\u001b[0m\u001b[0;34m\u001b[0m\u001b[0m\n\u001b[0m\u001b[1;32m    501\u001b[0m                 \u001b[0mself\u001b[0m\u001b[0;34m.\u001b[0m\u001b[0m_intermediate_problem\u001b[0m\u001b[0;34m,\u001b[0m \u001b[0mself\u001b[0m\u001b[0;34m.\u001b[0m\u001b[0m_intermediate_inverse_data\u001b[0m \u001b[0;34m=\u001b[0m\u001b[0;31m \u001b[0m\u001b[0;31m\\\u001b[0m\u001b[0;34m\u001b[0m\u001b[0;34m\u001b[0m\u001b[0m\n\u001b[1;32m    502\u001b[0m                     \u001b[0mself\u001b[0m\u001b[0;34m.\u001b[0m\u001b[0m_intermediate_chain\u001b[0m\u001b[0;34m.\u001b[0m\u001b[0mapply\u001b[0m\u001b[0;34m(\u001b[0m\u001b[0mself\u001b[0m\u001b[0;34m)\u001b[0m\u001b[0;34m\u001b[0m\u001b[0;34m\u001b[0m\u001b[0m\n",
      "\u001b[0;32m~/anaconda3/lib/python3.7/site-packages/cvxpy/reductions/solvers/intermediate_chain.py\u001b[0m in \u001b[0;36mconstruct_intermediate_chain\u001b[0;34m(problem, candidates, gp)\u001b[0m\n\u001b[1;32m     94\u001b[0m             append += (\"\\nHowever, the problem does follow DQCP rules. \"\n\u001b[1;32m     95\u001b[0m                        \"Consider calling solve() with `qcp=True`.\")\n\u001b[0;32m---> 96\u001b[0;31m         \u001b[0;32mraise\u001b[0m \u001b[0mDCPError\u001b[0m\u001b[0;34m(\u001b[0m\u001b[0;34m\"Problem does not follow DCP rules. Specifically:\\n\"\u001b[0m \u001b[0;34m+\u001b[0m \u001b[0mappend\u001b[0m\u001b[0;34m)\u001b[0m\u001b[0;34m\u001b[0m\u001b[0;34m\u001b[0m\u001b[0m\n\u001b[0m\u001b[1;32m     97\u001b[0m \u001b[0;34m\u001b[0m\u001b[0m\n\u001b[1;32m     98\u001b[0m     \u001b[0;32melif\u001b[0m \u001b[0mgp\u001b[0m \u001b[0;32mand\u001b[0m \u001b[0;32mnot\u001b[0m \u001b[0mproblem\u001b[0m\u001b[0;34m.\u001b[0m\u001b[0mis_dgp\u001b[0m\u001b[0;34m(\u001b[0m\u001b[0;34m)\u001b[0m\u001b[0;34m:\u001b[0m\u001b[0;34m\u001b[0m\u001b[0;34m\u001b[0m\u001b[0m\n",
      "\u001b[0;31mDCPError\u001b[0m: Problem does not follow DCP rules. Specifically:\nThe following constraints are not DCP:\n0.0 + -Promote(var3100662, (3, 3)) * [[5. 0. 0.]\n [0. 0. 0.]\n [0. 0. 0.]] + Promote(var3100663 * var3100663, (3, 3)) * [[0.  0.  0. ]\n [0.  0.  0. ]\n [0.  0.  0.2]] + Promote(var3100663, (3, 3)) * [[ 0.   0.   0. ]\n [ 0.   0.  -0.5]\n [ 0.  -0.5  0. ]] + [[-5.  0.  0.]\n [ 0.  0.  0.]\n [ 0.  0.  0.]] + Promote(var3100660, (3, 3)) * [[ 0.          0.          0.        ]\n [ 0.         -3.33333333  0.5       ]\n [ 0.          0.5        -0.06666667]] + Promote(var3100661, (3, 3)) * [[-5.    0.5   0.  ]\n [ 0.5  -0.05  0.  ]\n [ 0.    0.    0.  ]] >> 0 , because the following subexpressions are not:\n|--  var3100663 * var3100663"
     ]
    }
   ],
   "source": [
    "# M_0_cp = cp.Parameter((3,3))\n",
    "# M_0_cp.value = M_0\n",
    "# sigma_f = cp.Variable()\n",
    "# sigma_phi = cp.Variable()\n",
    "# constraints = [sigma_f >= 0]\n",
    "# constraints += [sigma_phi >= 0]\n",
    "# constraints += [(M_0_cp + sigma_f*M_f + sigma_phi*M_phi) << 0]\n",
    "# prob=cp.Problem(cp.Minimize(0), constraints)\n",
    "\n",
    "resolution =1000\n",
    "solvable =  np.zeros(resolution)\n",
    "etas = np.linspace(0,1,resolution,endpoint=False)\n",
    "# rhos = np.linspace(0,1,resolution,endpoint=False)\n",
    "# for i, eta in tqdm.tqdm(enumerate(etas)):\n",
    "M_0_part_1 = np.zeros((3,3))\n",
    "M_0_part_2 = np.zeros((3,3))\n",
    "M_0_part_3 = np.zeros((3,3))\n",
    "M_0_part_4 = np.zeros((3,3))\n",
    "\n",
    "# 1. linear to eta\n",
    "M_0_part_1[1,2]= -1/2\n",
    "M_0_part_1[2,1]= -1/2\n",
    "\n",
    "# 2. linear to eta^2\n",
    "M_0_part_2[2,2]= (2*u_phi)\n",
    "\n",
    "# 3. linear to rho\n",
    "M_0_part_4[0,0] = -1/(2*u_phi)\n",
    "\n",
    "# 4. constant term\n",
    "M_0_part_3[0,0]= (1)/(2*u_phi)\n",
    "\n",
    "# S_1 = np.array([[0,-np.sqrt(u_phi/2),0]])\n",
    "# S_2 = np.array([[0,0,1/np.sqrt(u_phi*2)]])\n",
    "\n",
    "\n",
    "sigma_f = cp.Variable()\n",
    "sigma_phi = cp.Variable()\n",
    "rho = cp.Variable()\n",
    "eta = cp.Variable()\n",
    "\n",
    "constraints = [sigma_f >= 0]\n",
    "constraints += [sigma_phi >= 0]\n",
    "constraints += [sigma_phi <= 1e3]\n",
    "constraints += [sigma_f <= 1e3]\n",
    "# constraints += [(M_0_part_3 + rho*M_0_part_2 + sigma_f*M_f + sigma_phi*M_phi) << 0]\n",
    "constraints += [(rho*M_0_part_3 + eta*eta*M_0_part_2 + eta*M_0_part_1+M_0_part_4+ sigma_f*M_f + sigma_phi*M_phi) << 0]\n",
    "constraints += [rho >= 0]\n",
    "constraints += [rho <= 1]\n",
    "\n",
    "\n",
    "prob=cp.Problem(cp.Minimize(rho), constraints)\n",
    "# prob=cp.Problem(cp.Maximize(rho), constraints)\n",
    "prob.solve(solver='MOSEK')\n",
    "#     prob.solve(solver='MOSEK',verbose=True)\n",
    "    \n",
    "#     prob.solve()\n",
    "#         print(\"The optimal value is\", prob.value)\n",
    "# #     if(np.isinf(prob.value)==False and prob.value < 1):\n",
    "#     if prob.status in [\"infeasible\", \"unbounded\"]:\n",
    "# #         print(\"Optimal value: %s\" % problem.value)\n",
    "#         solvable[i] = 1\n",
    "#     else:\n",
    "#         solvable[i] = prob.value\n",
    "#             print(\"this is solvable\", eta, rho)\n",
    "#         else:\n",
    "#             solvable[i,j] = 0"
   ]
  },
  {
   "cell_type": "code",
   "execution_count": 216,
   "metadata": {},
   "outputs": [
    {
     "name": "stdout",
     "output_type": "stream",
     "text": [
      "maximum eta is: 0.4\n"
     ]
    }
   ],
   "source": [
    "# solvable = np.minimum(solvable, 1)\n",
    "for i in range(resolution):\n",
    "    if i>1 and solvable[i]==1:\n",
    "        print(\"maximum eta is:\", etas[i-1])\n",
    "        break"
   ]
  },
  {
   "cell_type": "code",
   "execution_count": 217,
   "metadata": {},
   "outputs": [
    {
     "data": {
      "image/png": "[encoded data removed]",
      "text/plain": [
       "<Figure size 432x288 with 1 Axes>"
      ]
     },
     "metadata": {
      "needs_background": "light"
     },
     "output_type": "display_data"
    }
   ],
   "source": [
    "# print(solvable)\n",
    "plt.plot(etas,solvable)\n",
    "# plt.ylim(0,1.1)\n",
    "plt.show()"
   ]
  },
  {
   "cell_type": "code",
   "execution_count": 148,
   "metadata": {},
   "outputs": [
    {
     "data": {
      "image/png": "[encoded data removed]",
      "text/plain": [
       "<Figure size 432x288 with 1 Axes>"
      ]
     },
     "metadata": {
      "needs_background": "light"
     },
     "output_type": "display_data"
    }
   ],
   "source": [
    "# print(solvable)\n",
    "# solvable_1_1428 = np.copy(solvable)\n",
    "\n",
    "plt.plot(solvable_1_1)\n",
    "plt.plot(solvable_1_1428)\n",
    "plt.plot(solvable_1_2)\n",
    "plt.plot(solvable_1_333)\n",
    "plt.plot(solvable_1_10)\n",
    "plt.legend( ('1','1.428','2','3.33','10'))\n",
    "plt.xlabel(\"varying_L_phi\")\n",
    "# plt.show()\n",
    "plt.savefig(\"varying_L_phi\")"
   ]
  },
  {
   "cell_type": "code",
   "execution_count": 115,
   "metadata": {},
   "outputs": [
    {
     "data": {
      "image/png": "[encoded data removed]",
      "text/plain": [
       "<Figure size 432x288 with 1 Axes>"
      ]
     },
     "metadata": {
      "needs_background": "light"
     },
     "output_type": "display_data"
    }
   ],
   "source": [
    "# print(solvable)\n",
    "# solvable_03_1 = np.copy(solvable)\n",
    "plt.plot(solvable_01_1)\n",
    "plt.plot(solvable_03_1)\n",
    "plt.plot(solvable_05_1)\n",
    "plt.plot(solvable_07_1)\n",
    "plt.plot(solvable_1_1)\n",
    "plt.legend( ('0.1','0.3', '0.5','0.7','1.0'))\n",
    "plt.xlabel(\"varying_mu_phi\")\n",
    "# plt.show()\n",
    "plt.savefig(\"varying_mu_phi\")"
   ]
  },
  {
   "cell_type": "code",
   "execution_count": 162,
   "metadata": {},
   "outputs": [
    {
     "data": {
      "text/plain": [
       "<matplotlib.legend.Legend at 0x7f0430946e48>"
      ]
     },
     "execution_count": 162,
     "metadata": {},
     "output_type": "execute_result"
    },
    {
     "data": {
      "image/png": "[encoded data removed]",
      "text/plain": [
       "<Figure size 432x288 with 1 Axes>"
      ]
     },
     "metadata": {
      "needs_background": "light"
     },
     "output_type": "display_data"
    }
   ],
   "source": [
    "# print(solvable)\n",
    "solvable_01_01 = np.copy(solvable)\n",
    "# plt.plot(solvable_03_1)\n",
    "# plt.plot(solvable_1_333)\n",
    "plt.plot(solvable_01_01)\n",
    "plt.plot(solvable_1_1)\n",
    "plt.legend( ( '0.1, 0.1','1,1'))\n",
    "# plt.xlabel(\"varying_mu_phi\")\n",
    "# plt.show()\n",
    "# plt.savefig(\"comparison_same_kappa\")\n",
    "# print(np.min(solvable_05_1))\n",
    "\n",
    "# print(np.min(solvable_1_2))\n",
    "\n"
   ]
  },
  {
   "cell_type": "code",
   "execution_count": 55,
   "metadata": {
    "collapsed": true,
    "jupyter": {
     "outputs_hidden": true
    }
   },
   "outputs": [
    {
     "name": "stdout",
     "output_type": "stream",
     "text": [
      "[1.         0.99004365 0.98010303 0.97024529        nan 0.95062459\n",
      " 0.94090011        nan        nan        nan 0.90252491 0.89303422\n",
      " 0.8836     0.87424474 0.86490561        nan 0.84646217 0.83742287\n",
      "        nan 0.81910321 0.81001976 0.80104467 0.79210471        nan\n",
      " 0.77440268 0.7656503  0.75689966 0.748972   0.73971035 0.73103736\n",
      " 0.72250401 0.71405087 0.70559915 0.69724963 0.68890373        nan\n",
      " 0.67239601 0.66425524 0.65612639 0.64828074 0.64001692 0.63203661\n",
      " 0.62414535 0.61628248 0.60844623 0.60063035 0.59290942 0.58539339\n",
      " 0.57765268        nan 0.56261669 0.55513575 0.54758329 0.5406101\n",
      " 0.53289725 0.52568613 0.5184086         nan        nan 0.49725846\n",
      " 0.49024948        nan        nan 0.46922868 0.4629179  0.45560962\n",
      " 0.44899546 0.44226167 0.43560174 0.42907439        nan        nan\n",
      " 0.40966044 0.40328373 0.39693337 0.39057052 0.38445642 0.37822847\n",
      " 0.37212982 0.36602705        nan 0.35412752        nan 0.34213814\n",
      " 0.336839   0.33092808 0.32497731 0.31959464        nan 0.30801664\n",
      " 0.30251056 0.29703993 0.2916511         nan 0.28091517 0.27571278\n",
      "        nan 0.26534347 0.26009992 0.25504226 0.24999606 0.24514243\n",
      " 0.24015984 0.23531773        nan        nan 0.22095963 0.21632344\n",
      " 0.21169268 0.20697063 0.20253845 0.19944645 0.19358166 0.18928524\n",
      " 0.18495317        nan 0.17643168 0.17228285 0.16814182 0.16404225\n",
      " 0.16000047 0.15765385 0.15218958 0.14863982 0.14445735 0.14068517\n",
      "        nan 0.13324543 0.12988841        nan 0.12255794 0.11914873\n",
      " 0.1157427  0.11222859 0.11590354 0.12257322 0.12973683 0.1370752\n",
      " 0.14446254 0.15211702 0.16014771 0.16880258 0.17656611 0.18509069\n",
      " 0.19551138 0.20261329 0.21195711 0.22090593 0.23045652 0.24014249\n",
      " 0.25012135 0.26009997 0.27041551 0.28094136 0.29182523 0.3027521\n",
      " 0.31375127 0.32501979 0.33665155 0.34816652 0.36002585 0.3734709\n",
      " 0.38447217 0.39702695 0.40962521 0.4225545  0.43583904 0.44907604\n",
      " 0.46437667 0.47613266 0.49007095 0.50437939 0.51844915 0.53292842\n",
      " 0.00183454 0.56255994 0.57794896 0.59318153 0.6084096  0.62431456\n",
      " 0.63999465 0.65647317 0.67248095 0.68891229 0.70571705 0.72256278\n",
      " 0.7396842  0.75691429 0.774426   0.79217014 0.81003221 0.82814972\n",
      " 0.85031011 0.86491062 0.88361806 0.90288766 0.92162961        nan\n",
      " 0.96043654 0.98003941 1.         1.         1.         1.\n",
      " 1.         1.         1.         1.         1.         1.\n",
      " 1.         1.         1.         1.         1.         1.\n",
      " 1.         1.         1.         1.         1.         1.\n",
      " 1.         1.         1.         1.         1.         1.\n",
      " 1.         1.         1.         1.                nan 1.\n",
      " 1.         1.         1.         1.         1.         1.\n",
      " 1.         1.         1.         1.         1.         1.\n",
      " 1.         1.         1.         1.         1.                nan\n",
      " 1.         1.         1.         1.         1.         1.\n",
      " 1.         1.         1.         1.         1.         1.\n",
      " 1.         1.         1.         1.         1.         1.\n",
      "        nan 1.         1.                nan 1.         1.\n",
      " 1.         1.         1.         1.         1.         1.\n",
      " 1.         1.         1.         1.         1.         1.\n",
      " 1.         1.         1.         1.         1.         1.\n",
      " 1.         1.                nan 1.         1.         1.\n",
      " 1.         1.         1.         1.         1.         1.\n",
      " 1.         1.         1.         1.         1.         1.\n",
      " 1.         1.         1.         1.         1.         1.\n",
      " 1.         1.         1.         1.         1.         1.\n",
      " 1.         1.         1.         1.         1.         1.\n",
      " 1.         1.         1.         1.         1.         1.\n",
      " 1.         1.         1.         1.         1.         1.\n",
      " 1.         1.         1.         1.         1.         1.\n",
      " 1.         1.         1.         1.         1.         1.\n",
      " 1.         1.         1.         1.         1.         1.\n",
      " 1.         1.         1.         1.         1.         1.\n",
      " 1.         1.         1.         1.         1.         1.\n",
      " 1.         1.         1.         1.         1.         1.\n",
      " 1.         1.         1.         1.                nan 1.\n",
      " 1.         1.         1.         1.         1.                nan\n",
      " 1.         1.         1.         1.         1.         1.\n",
      " 1.         1.         1.         1.         1.         1.\n",
      " 1.         1.         1.         1.         1.         1.\n",
      " 1.         1.         1.         1.         1.         1.\n",
      " 1.         1.         1.         1.         1.         1.\n",
      " 1.         1.                nan 1.         1.         1.\n",
      " 1.         1.         1.         1.         1.         1.\n",
      " 1.         1.         1.         1.         1.         1.\n",
      " 1.         1.         1.         1.         1.         1.\n",
      " 1.         1.         1.         1.         1.         1.\n",
      " 1.         1.         1.         1.         1.         1.\n",
      " 1.         1.         1.         1.                nan 1.\n",
      " 1.         1.         1.         1.         1.         1.\n",
      " 1.         1.         1.         1.         1.         1.\n",
      " 1.         1.         1.         1.         1.         1.\n",
      " 1.         1.         1.         1.         1.         1.\n",
      " 1.         1.         1.         1.         1.                nan\n",
      " 1.         1.         1.         1.         1.         1.\n",
      " 1.         1.         1.         1.         1.         1.\n",
      " 1.         1.         1.         1.         1.         1.\n",
      " 1.         1.         1.         1.         1.         1.\n",
      " 1.         1.         1.                nan 1.         1.\n",
      " 1.         1.         1.         1.         1.         1.\n",
      " 1.         1.         1.         1.         1.         1.\n",
      "        nan 1.         1.         1.         1.         1.\n",
      " 1.         1.         1.         1.         1.         1.\n",
      " 1.         1.         1.         1.                nan 1.\n",
      " 1.         1.         1.         1.         1.                nan\n",
      " 1.         1.         1.         1.         1.         1.\n",
      " 1.         1.         1.         1.         1.         1.\n",
      " 1.         1.         1.         1.         1.         1.\n",
      " 1.         1.         1.         1.         1.         1.\n",
      " 1.         1.         1.         1.         1.         1.\n",
      " 1.                nan 1.                nan 1.         1.\n",
      " 1.         1.         1.         1.         1.         1.\n",
      " 1.         1.         1.         1.         1.         1.\n",
      " 1.         1.         1.         1.         1.         1.\n",
      " 1.                nan 1.         1.         1.                nan\n",
      " 1.         1.         1.         1.         1.                nan\n",
      " 1.         1.         1.                nan 1.         1.\n",
      " 1.         1.         1.         1.         1.         1.\n",
      " 1.         1.         1.         1.         1.         1.\n",
      " 1.                nan 1.         1.         1.         1.\n",
      " 1.         1.         1.         1.         1.         1.\n",
      " 1.         1.         1.         1.         1.         1.\n",
      " 1.         1.         1.         1.         1.         1.\n",
      " 1.         1.         1.         1.         1.         1.\n",
      " 1.         1.         1.         1.         1.         1.\n",
      " 1.         1.         1.         1.         1.         1.\n",
      " 1.         1.         1.         1.         1.         1.\n",
      " 1.         1.         1.         1.         1.         1.\n",
      " 1.         1.         1.         1.         1.         1.\n",
      " 1.         1.         1.         1.         1.         1.\n",
      " 1.         1.         1.         1.         1.         1.\n",
      " 1.         1.         1.         1.         1.         1.\n",
      " 1.         1.         1.         1.         1.         1.\n",
      " 1.         1.         1.         1.         1.         1.\n",
      " 1.         1.         1.         1.         1.         1.\n",
      " 1.         1.         1.         1.                nan 1.\n",
      " 1.         1.         1.         1.         1.         1.\n",
      " 1.         1.         1.         1.         1.         1.\n",
      " 1.         1.         1.         1.         1.         1.\n",
      " 1.         1.         1.         1.         1.         1.\n",
      " 1.         1.         1.         1.         1.         1.\n",
      " 1.         1.         1.         1.         1.         1.\n",
      " 1.         1.         1.         1.         1.         1.\n",
      " 1.         1.         1.         1.         1.         1.\n",
      "        nan 1.         1.         1.         1.         1.\n",
      "        nan 1.         1.                nan 1.         1.\n",
      " 1.         1.         1.         1.         1.         1.\n",
      " 1.         1.         1.         1.                nan 1.\n",
      " 1.         1.         1.         1.         1.         1.\n",
      " 1.         1.         1.         1.         1.         1.\n",
      " 1.         1.         1.         1.         1.         1.\n",
      "        nan 1.         1.         1.         1.         1.\n",
      " 1.         1.         1.         1.         1.         1.\n",
      " 1.         1.         1.         1.         1.         1.\n",
      " 1.         1.         1.         1.                nan 1.\n",
      " 1.         1.         1.         1.         1.         1.\n",
      " 1.         1.         1.         1.         1.         1.\n",
      " 1.         1.         1.         1.         1.         1.\n",
      " 1.         1.         1.         1.         1.         1.\n",
      " 1.         1.         1.         1.         1.         1.\n",
      " 1.         1.         1.         1.         1.         1.\n",
      " 1.                nan 1.         1.         1.         1.\n",
      " 1.         1.         1.         1.                nan 1.\n",
      " 1.         1.         1.         1.         1.         1.\n",
      " 1.         1.         1.         1.         1.         1.\n",
      " 1.         1.         1.         1.                nan 1.\n",
      " 1.         1.         1.         1.         1.         1.\n",
      " 1.         1.         1.         1.         1.         1.\n",
      " 1.         1.         1.         1.         1.         1.\n",
      " 1.         1.         1.         1.         1.         1.\n",
      " 1.         1.         1.         1.         1.         1.\n",
      " 1.         1.         1.         1.         1.         1.\n",
      " 1.         1.                nan 1.         1.         1.\n",
      " 1.         1.         1.         1.         1.         1.\n",
      " 1.         1.         1.         1.         1.         1.\n",
      " 1.         1.         1.                nan        nan 1.\n",
      " 1.         1.         1.         1.         1.         1.\n",
      " 1.         1.         1.         1.         1.         1.\n",
      " 1.         1.                nan 1.        ]\n"
     ]
    }
   ],
   "source": [
    "print(solvable)"
   ]
  },
  {
   "cell_type": "code",
   "execution_count": null,
   "metadata": {},
   "outputs": [],
   "source": []
  }
 ],
 "metadata": {
  "kernelspec": {
   "display_name": "Python 3",
   "language": "python",
   "name": "python3"
  },
  "language_info": {
   "codemirror_mode": {
    "name": "ipython",
    "version": 3
   },
   "file_extension": ".py",
   "mimetype": "text/x-python",
   "name": "python",
   "nbconvert_exporter": "python",
   "pygments_lexer": "ipython3",
   "version": "3.7.3"
  }
 },
 "nbformat": 4,
 "nbformat_minor": 4
}
